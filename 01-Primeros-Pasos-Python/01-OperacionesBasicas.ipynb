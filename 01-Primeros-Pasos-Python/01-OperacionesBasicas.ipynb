{
 "cells": [
  {
   "cell_type": "markdown",
   "id": "730d35f3",
   "metadata": {},
   "source": [
    "# Operaciones Basicas en Python \n",
    "**** Se describen los tipo de datos existentes en Python y la forma de imprimirlo"
   ]
  },
  {
   "cell_type": "markdown",
   "id": "53ffbf5b",
   "metadata": {},
   "source": [
    "## Declaración de variables y asignacion de datos"
   ]
  },
  {
   "cell_type": "code",
   "execution_count": null,
   "id": "277527c2",
   "metadata": {
    "vscode": {
     "languageId": "plaintext"
    }
   },
   "outputs": [],
   "source": [
    "#Declaracion de variables\n",
    "a = 1 #variable de tipo int\n",
    "b = 2.3 #variable de tipo flooat\n",
    "c = True #variable de tipo boolean\n",
    "d = False #variable de tipo boolean\n",
    "e = \"Hola Mundo\" #variable de tipo String\n",
    "f = \"Hola negocios digitales\" #variable de tipo String"
   ]
  },
  {
   "cell_type": "code",
   "execution_count": null,
   "id": "9f39a6d7",
   "metadata": {
    "vscode": {
     "languageId": "plaintext"
    }
   },
   "outputs": [],
   "source": []
  }
 ],
 "metadata": {
  "language_info": {
   "name": "python"
  }
 },
 "nbformat": 4,
 "nbformat_minor": 5
}
