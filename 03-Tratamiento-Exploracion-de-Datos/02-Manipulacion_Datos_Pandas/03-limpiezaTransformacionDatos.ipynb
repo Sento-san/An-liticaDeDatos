{
 "cells": [
  {
   "cell_type": "markdown",
   "id": "4d94417c",
   "metadata": {},
   "source": [
    "# Limpieza y Transformacion de Datos"
   ]
  },
  {
   "cell_type": "code",
   "execution_count": null,
   "id": "8df5e59a",
   "metadata": {},
   "outputs": [],
   "source": [
    "# Importar librerias\n",
    "import pandas as pd\n",
    "import numpy as np\n",
    "import matplotlib.pyplot as plt\n",
    "import re"
   ]
  },
  {
   "cell_type": "markdown",
   "id": "db4110ea",
   "metadata": {},
   "source": [
    "### Importar Archivo"
   ]
  },
  {
   "cell_type": "code",
   "execution_count": 3,
   "id": "a3a063f6",
   "metadata": {},
   "outputs": [
    {
     "ename": "SyntaxError",
     "evalue": "leading zeros in decimal integer literals are not permitted; use an 0o prefix for octal integers (2158883314.py, line 1)",
     "output_type": "error",
     "traceback": [
      "  \u001b[36mCell\u001b[39m\u001b[36m \u001b[39m\u001b[32mIn[3]\u001b[39m\u001b[32m, line 1\u001b[39m\n\u001b[31m    \u001b[39m\u001b[31msalarios = pd.read_csv(.../01-DataSets/linkedin-jobs-usa - copia)\u001b[39m\n                               ^\n\u001b[31mSyntaxError\u001b[39m\u001b[31m:\u001b[39m leading zeros in decimal integer literals are not permitted; use an 0o prefix for octal integers\n"
     ]
    }
   ],
   "source": [
    "salarios = pd.read_csv(.../01-DataSets/linkedin-jobs-usa - copia)"
   ]
  },
  {
   "cell_type": "code",
   "execution_count": null,
   "id": "db7b6039",
   "metadata": {},
   "outputs": [],
   "source": [
    "salarios_limpieza = salarios.copy()"
   ]
  },
  {
   "cell_type": "markdown",
   "id": "408a20ce",
   "metadata": {},
   "source": [
    "## Tratamiento de Duplicados"
   ]
  },
  {
   "cell_type": "code",
   "execution_count": null,
   "id": "a3901a74",
   "metadata": {},
   "outputs": [],
   "source": [
    "salarios.drop_duplicates()"
   ]
  },
  {
   "cell_type": "code",
   "execution_count": null,
   "id": "275e98a2",
   "metadata": {},
   "outputs": [],
   "source": [
    "salarios_limpieza.duplicated()"
   ]
  },
  {
   "cell_type": "code",
   "execution_count": null,
   "id": "87a2673d",
   "metadata": {},
   "outputs": [],
   "source": [
    "salarios_limpieza.duplicated().sum"
   ]
  },
  {
   "cell_type": "code",
   "execution_count": null,
   "id": "b814d77c",
   "metadata": {},
   "outputs": [],
   "source": [
    "salarios[salarios_limpieza.duplicated()]"
   ]
  },
  {
   "cell_type": "code",
   "execution_count": null,
   "id": "e4d4e0e1",
   "metadata": {},
   "outputs": [],
   "source": [
    "salarios_limpieza[salarios_limpieza]"
   ]
  },
  {
   "cell_type": "markdown",
   "id": "b5cb2d13",
   "metadata": {},
   "source": [
    "## Tratamiento de Valores Nulos"
   ]
  },
  {
   "cell_type": "markdown",
   "id": "32decb25",
   "metadata": {},
   "source": [
    "- Visualizar valores nulos"
   ]
  },
  {
   "cell_type": "code",
   "execution_count": null,
   "id": "0810d254",
   "metadata": {},
   "outputs": [],
   "source": [
    "salarios_limpieza.isna()"
   ]
  },
  {
   "cell_type": "code",
   "execution_count": null,
   "id": "ca9387cb",
   "metadata": {},
   "outputs": [],
   "source": [
    "Print(f\"Valores Nan por columna{salarios_limpieza.isna().sum()}\")"
   ]
  },
  {
   "cell_type": "markdown",
   "id": "30755b6e",
   "metadata": {},
   "source": [
    "## Aqui va la opcion 1"
   ]
  },
  {
   "cell_type": "code",
   "execution_count": null,
   "id": "2ec57ed8",
   "metadata": {},
   "outputs": [],
   "source": [
    "df_sin_nulos = salarios.dropna()\n",
    "\n",
    "df_sin_nulos_columnas = salarios.dropna(axis=0)"
   ]
  },
  {
   "cell_type": "markdown",
   "id": "28f615e0",
   "metadata": {},
   "source": [
    "### axis = 0 revisa por fila\n",
    "### axis = 1 revisa por columna\n",
    "\n",
    "### how = 'any' elimina si al menos uno es nulo\n",
    "### how = 'all' elimina solo si todos son nulos"
   ]
  },
  {
   "cell_type": "code",
   "execution_count": null,
   "id": "e22b407e",
   "metadata": {},
   "outputs": [],
   "source": [
    "df_sin_nulos.isna().sum()"
   ]
  },
  {
   "cell_type": "code",
   "execution_count": null,
   "id": "f96db050",
   "metadata": {},
   "outputs": [],
   "source": [
    "df_sin_nulos['salary'].head()"
   ]
  },
  {
   "cell_type": "code",
   "execution_count": null,
   "id": "97b06b8a",
   "metadata": {},
   "outputs": [],
   "source": [
    "df_sin_nulos.shape"
   ]
  },
  {
   "cell_type": "markdown",
   "id": "41b45ada",
   "metadata": {},
   "source": [
    "# Transformacion de Datos\n",
    "\n",
    "### 2da Opcion: Remplazar NaNs por la Media\n",
    "\n",
    "### Parsing (\"parseo\") de la columna Salary"
   ]
  },
  {
   "cell_type": "code",
   "execution_count": null,
   "id": "f209d243",
   "metadata": {},
   "outputs": [],
   "source": [
    "# Este código toma una columna 'salary' que contiene valores de salario en formato de cadena, \n",
    "# elimina cualquier caracter no numérico, extrae los dígitos y convierte la columna resultante \n",
    "# en valores numéricos de tipo float. \n",
    "# El resultado se almacena en una nueva columna llamada 'salary_numeric'. \n",
    "# Esto es útil cuando la columna 'salary' inicial contiene caracteres no numéricos y se desea \n",
    "# trabajar con los salarios como valores numéricos.\n",
    "\n",
    "df_sin_nulos['salary_numeric'] = df_sin_nulos['salary'].replace('[^\\d.]','', regex=True).str.extract('(\\d+)'.astype(float))\n"
   ]
  },
  {
   "cell_type": "code",
   "execution_count": null,
   "id": "9430fb47",
   "metadata": {},
   "outputs": [],
   "source": [
    "# Extrae el primer número válido (entero o decimal) de cada celda y lo convierte a float\n",
    "df_sin_nulos['salary_numeric'] = df_sin_nulos['salary'].astype(str).apply(lambda x: float(re.search(r'\\d+(?:\\.\\d+)?', x).group()) if re.search(r'\\d+(?:\\.\\d+)?', x) else None)"
   ]
  },
  {
   "cell_type": "code",
   "execution_count": null,
   "id": "2ebcf17c",
   "metadata": {},
   "outputs": [],
   "source": [
    "df_sin_nulos['salary_numeric']"
   ]
  }
 ],
 "metadata": {
  "kernelspec": {
   "display_name": "Python 3",
   "language": "python",
   "name": "python3"
  },
  "language_info": {
   "codemirror_mode": {
    "name": "ipython",
    "version": 3
   },
   "file_extension": ".py",
   "mimetype": "text/x-python",
   "name": "python",
   "nbconvert_exporter": "python",
   "pygments_lexer": "ipython3",
   "version": "3.12.0"
  }
 },
 "nbformat": 4,
 "nbformat_minor": 5
}
