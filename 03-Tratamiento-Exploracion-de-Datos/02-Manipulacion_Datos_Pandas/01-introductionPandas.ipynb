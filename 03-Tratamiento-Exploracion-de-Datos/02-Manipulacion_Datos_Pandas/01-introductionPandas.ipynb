{
 "cells": [
  {
   "cell_type": "code",
   "execution_count": 6,
   "id": "4a8fa04f",
   "metadata": {},
   "outputs": [],
   "source": [
    "import pandas as pd"
   ]
  },
  {
   "cell_type": "code",
   "execution_count": 7,
   "id": "08383bcf",
   "metadata": {},
   "outputs": [],
   "source": [
    "import numpy as np"
   ]
  },
  {
   "cell_type": "code",
   "execution_count": 9,
   "id": "6e46946a",
   "metadata": {},
   "outputs": [],
   "source": [
    "import matplotlib as plt"
   ]
  },
  {
   "cell_type": "code",
   "execution_count": 10,
   "id": "9245051f",
   "metadata": {},
   "outputs": [
    {
     "name": "stdout",
     "output_type": "stream",
     "text": [
      "  Nombre  Edad\n",
      "0    Ana    23\n",
      "1   Luis    30\n",
      "2  Pedro    27\n"
     ]
    }
   ],
   "source": [
    "datos = {\n",
    "    'Nombre':['Ana', 'Luis', 'Pedro'],\n",
    "    'Edad':[23,30,27]\n",
    "}\n",
    "df = pd.DataFrame(datos)\n",
    "print(df)"
   ]
  },
  {
   "cell_type": "markdown",
   "id": "1fdd6cdf",
   "metadata": {},
   "source": [
    "## Series\n",
    "\n",
    "- Es un arreglo unidimensional que puede contener datos de cualquier tipo de `enteros, flotantes, strings, etc` y tiene un indice asocioado. Lo que le da acceso a los datos. "
   ]
  },
  {
   "cell_type": "code",
   "execution_count": 11,
   "id": "76a7c555",
   "metadata": {},
   "outputs": [],
   "source": [
    "# Crear una lista \n",
    "edad = [30,40,60]"
   ]
  },
  {
   "cell_type": "code",
   "execution_count": 17,
   "id": "3900fcaa",
   "metadata": {},
   "outputs": [],
   "source": [
    "# Convertir a serie \n",
    "serie = pd.Series(edad)"
   ]
  },
  {
   "cell_type": "code",
   "execution_count": 13,
   "id": "3643b0f7",
   "metadata": {},
   "outputs": [
    {
     "data": {
      "text/plain": [
       "0    30\n",
       "1    40\n",
       "2    60\n",
       "dtype: int64"
      ]
     },
     "execution_count": 13,
     "metadata": {},
     "output_type": "execute_result"
    }
   ],
   "source": [
    "# Mostrar resultado\n",
    "serie"
   ]
  },
  {
   "cell_type": "code",
   "execution_count": 18,
   "id": "024a8e5a",
   "metadata": {},
   "outputs": [
    {
     "data": {
      "text/plain": [
       "np.int64(40)"
      ]
     },
     "execution_count": 18,
     "metadata": {},
     "output_type": "execute_result"
    }
   ],
   "source": [
    "serie [1]"
   ]
  },
  {
   "cell_type": "code",
   "execution_count": 19,
   "id": "0610cf46",
   "metadata": {},
   "outputs": [],
   "source": [
    "# Cambiar indices \n",
    "serie = pd.Series(edad, index = ['Alex', 'John', 'Maria'])"
   ]
  },
  {
   "cell_type": "code",
   "execution_count": 20,
   "id": "17640354",
   "metadata": {},
   "outputs": [
    {
     "data": {
      "text/plain": [
       "Alex     30\n",
       "John     40\n",
       "Maria    60\n",
       "dtype: int64"
      ]
     },
     "execution_count": 20,
     "metadata": {},
     "output_type": "execute_result"
    }
   ],
   "source": [
    "serie"
   ]
  },
  {
   "cell_type": "code",
   "execution_count": 21,
   "id": "bae2ebde",
   "metadata": {},
   "outputs": [
    {
     "data": {
      "text/plain": [
       "np.int64(30)"
      ]
     },
     "execution_count": 21,
     "metadata": {},
     "output_type": "execute_result"
    }
   ],
   "source": [
    "serie['Alex']"
   ]
  },
  {
   "cell_type": "code",
   "execution_count": 23,
   "id": "a2145e46",
   "metadata": {},
   "outputs": [
    {
     "name": "stdout",
     "output_type": "stream",
     "text": [
      "0      1\n",
      "1      4\n",
      "2      9\n",
      "3      2\n",
      "4      6\n",
      "5     10\n",
      "6    200\n",
      "dtype: int64\n"
     ]
    }
   ],
   "source": [
    "naranjas = pd.Series([1,4,9,2,6,10,200])\n",
    "print(naranjas)"
   ]
  },
  {
   "cell_type": "code",
   "execution_count": 24,
   "id": "10518167",
   "metadata": {},
   "outputs": [
    {
     "data": {
      "text/plain": [
       "pandas.core.series.Series"
      ]
     },
     "execution_count": 24,
     "metadata": {},
     "output_type": "execute_result"
    }
   ],
   "source": [
    "type(naranjas)"
   ]
  },
  {
   "cell_type": "code",
   "execution_count": 26,
   "id": "12882831",
   "metadata": {},
   "outputs": [
    {
     "name": "stdout",
     "output_type": "stream",
     "text": [
      "Marco       1\n",
      "Ana         4\n",
      "Juan        9\n",
      "Pedro       2\n",
      "Estela      6\n",
      "Ivan       10\n",
      "Luis      200\n",
      "dtype: int64\n"
     ]
    }
   ],
   "source": [
    "naranjas = pd.Series([1,4,9,2,6,10,200], index = ['Marco', 'Ana', 'Juan', 'Pedro', 'Estela', 'Ivan', 'Luis'])\n",
    "print(naranjas)"
   ]
  }
 ],
 "metadata": {
  "kernelspec": {
   "display_name": "Python 3",
   "language": "python",
   "name": "python3"
  },
  "language_info": {
   "codemirror_mode": {
    "name": "ipython",
    "version": 3
   },
   "file_extension": ".py",
   "mimetype": "text/x-python",
   "name": "python",
   "nbconvert_exporter": "python",
   "pygments_lexer": "ipython3",
   "version": "3.12.0"
  }
 },
 "nbformat": 4,
 "nbformat_minor": 5
}
