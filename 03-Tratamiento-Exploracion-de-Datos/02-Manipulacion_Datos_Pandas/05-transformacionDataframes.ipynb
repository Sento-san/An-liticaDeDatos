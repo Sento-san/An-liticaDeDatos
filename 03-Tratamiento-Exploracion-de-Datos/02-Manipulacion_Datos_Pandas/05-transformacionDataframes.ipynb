{
 "cells": [
  {
   "cell_type": "markdown",
   "id": "5a5f75d9",
   "metadata": {},
   "source": [
    "# Transformacion de DataFrames"
   ]
  },
  {
   "cell_type": "markdown",
   "id": "66ee0f30",
   "metadata": {},
   "source": [
    "## Inspeccionar un DataSet"
   ]
  },
  {
   "cell_type": "code",
   "execution_count": 4,
   "id": "bb2a53a4",
   "metadata": {},
   "outputs": [],
   "source": [
    "# importar la libreria de pandas\n",
    "import pandas as pd"
   ]
  },
  {
   "cell_type": "code",
   "execution_count": 5,
   "id": "a3c7ad2d",
   "metadata": {},
   "outputs": [],
   "source": [
    "homelessness = pd.read_csv('./01-DataSets/homelessness.csv', index_col=0)"
   ]
  },
  {
   "cell_type": "code",
   "execution_count": 6,
   "id": "87450d45",
   "metadata": {},
   "outputs": [
    {
     "data": {
      "text/html": [
       "<div>\n",
       "<style scoped>\n",
       "    .dataframe tbody tr th:only-of-type {\n",
       "        vertical-align: middle;\n",
       "    }\n",
       "\n",
       "    .dataframe tbody tr th {\n",
       "        vertical-align: top;\n",
       "    }\n",
       "\n",
       "    .dataframe thead th {\n",
       "        text-align: right;\n",
       "    }\n",
       "</style>\n",
       "<table border=\"1\" class=\"dataframe\">\n",
       "  <thead>\n",
       "    <tr style=\"text-align: right;\">\n",
       "      <th></th>\n",
       "      <th>region</th>\n",
       "      <th>state</th>\n",
       "      <th>individuals</th>\n",
       "      <th>family_members</th>\n",
       "      <th>state_pop</th>\n",
       "    </tr>\n",
       "  </thead>\n",
       "  <tbody>\n",
       "    <tr>\n",
       "      <th>0</th>\n",
       "      <td>East South Central</td>\n",
       "      <td>Alabama</td>\n",
       "      <td>2570.0</td>\n",
       "      <td>864.0</td>\n",
       "      <td>4887681</td>\n",
       "    </tr>\n",
       "    <tr>\n",
       "      <th>1</th>\n",
       "      <td>Pacific</td>\n",
       "      <td>Alaska</td>\n",
       "      <td>1434.0</td>\n",
       "      <td>582.0</td>\n",
       "      <td>735139</td>\n",
       "    </tr>\n",
       "    <tr>\n",
       "      <th>2</th>\n",
       "      <td>Mountain</td>\n",
       "      <td>Arizona</td>\n",
       "      <td>7259.0</td>\n",
       "      <td>2606.0</td>\n",
       "      <td>7158024</td>\n",
       "    </tr>\n",
       "    <tr>\n",
       "      <th>3</th>\n",
       "      <td>West South Central</td>\n",
       "      <td>Arkansas</td>\n",
       "      <td>2280.0</td>\n",
       "      <td>432.0</td>\n",
       "      <td>3009733</td>\n",
       "    </tr>\n",
       "    <tr>\n",
       "      <th>4</th>\n",
       "      <td>Pacific</td>\n",
       "      <td>California</td>\n",
       "      <td>109008.0</td>\n",
       "      <td>20964.0</td>\n",
       "      <td>39461588</td>\n",
       "    </tr>\n",
       "  </tbody>\n",
       "</table>\n",
       "</div>"
      ],
      "text/plain": [
       "               region       state  individuals  family_members  state_pop\n",
       "0  East South Central     Alabama       2570.0           864.0    4887681\n",
       "1             Pacific      Alaska       1434.0           582.0     735139\n",
       "2            Mountain     Arizona       7259.0          2606.0    7158024\n",
       "3  West South Central    Arkansas       2280.0           432.0    3009733\n",
       "4             Pacific  California     109008.0         20964.0   39461588"
      ]
     },
     "execution_count": 6,
     "metadata": {},
     "output_type": "execute_result"
    }
   ],
   "source": [
    "homelessness.head()"
   ]
  },
  {
   "cell_type": "code",
   "execution_count": 7,
   "id": "37a33d04",
   "metadata": {},
   "outputs": [
    {
     "name": "stdout",
     "output_type": "stream",
     "text": [
      "<class 'pandas.core.frame.DataFrame'>\n",
      "Index: 51 entries, 0 to 50\n",
      "Data columns (total 5 columns):\n",
      " #   Column          Non-Null Count  Dtype  \n",
      "---  ------          --------------  -----  \n",
      " 0   region          51 non-null     object \n",
      " 1   state           51 non-null     object \n",
      " 2   individuals     51 non-null     float64\n",
      " 3   family_members  51 non-null     float64\n",
      " 4   state_pop       51 non-null     int64  \n",
      "dtypes: float64(2), int64(1), object(2)\n",
      "memory usage: 2.4+ KB\n",
      "None\n"
     ]
    }
   ],
   "source": [
    "# imprimir informacion acerca de homelessness\n",
    "print(homelessness.info())"
   ]
  },
  {
   "cell_type": "code",
   "execution_count": 8,
   "id": "4c101e1e",
   "metadata": {},
   "outputs": [
    {
     "name": "stdout",
     "output_type": "stream",
     "text": [
      "(51, 5)\n"
     ]
    }
   ],
   "source": [
    "# imprimir el tamaño de homelessness\n",
    "print(homelessness.shape)"
   ]
  },
  {
   "cell_type": "code",
   "execution_count": 9,
   "id": "deba9fa6",
   "metadata": {},
   "outputs": [
    {
     "name": "stdout",
     "output_type": "stream",
     "text": [
      "         individuals  family_members     state_pop\n",
      "count      51.000000       51.000000  5.100000e+01\n",
      "mean     7225.784314     3504.882353  6.405637e+06\n",
      "std     15991.025083     7805.411811  7.327258e+06\n",
      "min       434.000000       75.000000  5.776010e+05\n",
      "25%      1446.500000      592.000000  1.777414e+06\n",
      "50%      3082.000000     1482.000000  4.461153e+06\n",
      "75%      6781.500000     3196.000000  7.340946e+06\n",
      "max    109008.000000    52070.000000  3.946159e+07\n"
     ]
    }
   ],
   "source": [
    "# imprimir la descripccion de homelessness\n",
    "print(homelessness.describe())"
   ]
  },
  {
   "cell_type": "markdown",
   "id": "a93f3b69",
   "metadata": {},
   "source": [
    "## Partes de un DataFrame"
   ]
  },
  {
   "cell_type": "code",
   "execution_count": 10,
   "id": "4e299af2",
   "metadata": {},
   "outputs": [
    {
     "name": "stdout",
     "output_type": "stream",
     "text": [
      "[['East South Central' 'Alabama' 2570.0 864.0 4887681]\n",
      " ['Pacific' 'Alaska' 1434.0 582.0 735139]\n",
      " ['Mountain' 'Arizona' 7259.0 2606.0 7158024]\n",
      " ['West South Central' 'Arkansas' 2280.0 432.0 3009733]\n",
      " ['Pacific' 'California' 109008.0 20964.0 39461588]\n",
      " ['Mountain' 'Colorado' 7607.0 3250.0 5691287]\n",
      " ['New England' 'Connecticut' 2280.0 1696.0 3571520]\n",
      " ['South Atlantic' 'Delaware' 708.0 374.0 965479]\n",
      " ['South Atlantic' 'District of Columbia' 3770.0 3134.0 701547]\n",
      " ['South Atlantic' 'Florida' 21443.0 9587.0 21244317]\n",
      " ['South Atlantic' 'Georgia' 6943.0 2556.0 10511131]\n",
      " ['Pacific' 'Hawaii' 4131.0 2399.0 1420593]\n",
      " ['Mountain' 'Idaho' 1297.0 715.0 1750536]\n",
      " ['East North Central' 'Illinois' 6752.0 3891.0 12723071]\n",
      " ['East North Central' 'Indiana' 3776.0 1482.0 6695497]\n",
      " ['West North Central' 'Iowa' 1711.0 1038.0 3148618]\n",
      " ['West North Central' 'Kansas' 1443.0 773.0 2911359]\n",
      " ['East South Central' 'Kentucky' 2735.0 953.0 4461153]\n",
      " ['West South Central' 'Louisiana' 2540.0 519.0 4659690]\n",
      " ['New England' 'Maine' 1450.0 1066.0 1339057]\n",
      " ['South Atlantic' 'Maryland' 4914.0 2230.0 6035802]\n",
      " ['New England' 'Massachusetts' 6811.0 13257.0 6882635]\n",
      " ['East North Central' 'Michigan' 5209.0 3142.0 9984072]\n",
      " ['West North Central' 'Minnesota' 3993.0 3250.0 5606249]\n",
      " ['East South Central' 'Mississippi' 1024.0 328.0 2981020]\n",
      " ['West North Central' 'Missouri' 3776.0 2107.0 6121623]\n",
      " ['Mountain' 'Montana' 983.0 422.0 1060665]\n",
      " ['West North Central' 'Nebraska' 1745.0 676.0 1925614]\n",
      " ['Mountain' 'Nevada' 7058.0 486.0 3027341]\n",
      " ['New England' 'New Hampshire' 835.0 615.0 1353465]\n",
      " ['Mid-Atlantic' 'New Jersey' 6048.0 3350.0 8886025]\n",
      " ['Mountain' 'New Mexico' 1949.0 602.0 2092741]\n",
      " ['Mid-Atlantic' 'New York' 39827.0 52070.0 19530351]\n",
      " ['South Atlantic' 'North Carolina' 6451.0 2817.0 10381615]\n",
      " ['West North Central' 'North Dakota' 467.0 75.0 758080]\n",
      " ['East North Central' 'Ohio' 6929.0 3320.0 11676341]\n",
      " ['West South Central' 'Oklahoma' 2823.0 1048.0 3940235]\n",
      " ['Pacific' 'Oregon' 11139.0 3337.0 4181886]\n",
      " ['Mid-Atlantic' 'Pennsylvania' 8163.0 5349.0 12800922]\n",
      " ['New England' 'Rhode Island' 747.0 354.0 1058287]\n",
      " ['South Atlantic' 'South Carolina' 3082.0 851.0 5084156]\n",
      " ['West North Central' 'South Dakota' 836.0 323.0 878698]\n",
      " ['East South Central' 'Tennessee' 6139.0 1744.0 6771631]\n",
      " ['West South Central' 'Texas' 19199.0 6111.0 28628666]\n",
      " ['Mountain' 'Utah' 1904.0 972.0 3153550]\n",
      " ['New England' 'Vermont' 780.0 511.0 624358]\n",
      " ['South Atlantic' 'Virginia' 3928.0 2047.0 8501286]\n",
      " ['Pacific' 'Washington' 16424.0 5880.0 7523869]\n",
      " ['South Atlantic' 'West Virginia' 1021.0 222.0 1804291]\n",
      " ['East North Central' 'Wisconsin' 2740.0 2167.0 5807406]\n",
      " ['Mountain' 'Wyoming' 434.0 205.0 577601]]\n"
     ]
    }
   ],
   "source": [
    "# Imprimir los valores de homelessnes\n",
    "print(homelessness.values)"
   ]
  },
  {
   "cell_type": "code",
   "execution_count": 11,
   "id": "853dbea4",
   "metadata": {},
   "outputs": [
    {
     "name": "stdout",
     "output_type": "stream",
     "text": [
      "Index(['region', 'state', 'individuals', 'family_members', 'state_pop'], dtype='object')\n"
     ]
    }
   ],
   "source": [
    "# Imprimir los indices de las columnas de homelessness\n",
    "print(homelessness.columns)"
   ]
  },
  {
   "cell_type": "code",
   "execution_count": 12,
   "id": "cfd14e01",
   "metadata": {},
   "outputs": [
    {
     "name": "stdout",
     "output_type": "stream",
     "text": [
      "Index([ 0,  1,  2,  3,  4,  5,  6,  7,  8,  9, 10, 11, 12, 13, 14, 15, 16, 17,\n",
      "       18, 19, 20, 21, 22, 23, 24, 25, 26, 27, 28, 29, 30, 31, 32, 33, 34, 35,\n",
      "       36, 37, 38, 39, 40, 41, 42, 43, 44, 45, 46, 47, 48, 49, 50],\n",
      "      dtype='int64')\n"
     ]
    }
   ],
   "source": [
    "# Imprimir los indices de las filas de homelessnes\n",
    "print(homelessness.index)"
   ]
  },
  {
   "cell_type": "markdown",
   "id": "a04445d4",
   "metadata": {},
   "source": [
    "## Ordenar Filas\n",
    "| Ordenar en ... | Sintaxis                     |\n",
    "|----------------| -----------------------------|\n",
    "| una columna    | `df.sort_values('bread')`    |\n",
    "| varias columna | `df.sort_values(['bread',\"weigt_kg\"])`|\n",
    "\n",
    "1. Ordenar homelessness por el numero de persona sin hogar de la columna individuals, de menos a mayor, y guardarlo como homelessness_ind\n",
    "\n",
    "2. Ordena por el numero de personas sin hogar family_members en orden descendente y guardarlo como homelessnes_fam\n",
    "\n",
    "3. Ordena homelessness primero por region(ascendente) y luego por numero de miembros de la familia (descendente) y guardarlo como homelessness_reg_fam"
   ]
  },
  {
   "cell_type": "code",
   "execution_count": 13,
   "id": "e362f27e",
   "metadata": {},
   "outputs": [
    {
     "name": "stdout",
     "output_type": "stream",
     "text": [
      "                region          state  individuals  family_members  state_pop\n",
      "50            Mountain        Wyoming        434.0           205.0     577601\n",
      "34  West North Central   North Dakota        467.0            75.0     758080\n",
      "7       South Atlantic       Delaware        708.0           374.0     965479\n",
      "39         New England   Rhode Island        747.0           354.0    1058287\n",
      "45         New England        Vermont        780.0           511.0     624358\n",
      "29         New England  New Hampshire        835.0           615.0    1353465\n",
      "41  West North Central   South Dakota        836.0           323.0     878698\n",
      "26            Mountain        Montana        983.0           422.0    1060665\n",
      "48      South Atlantic  West Virginia       1021.0           222.0    1804291\n",
      "24  East South Central    Mississippi       1024.0           328.0    2981020\n"
     ]
    }
   ],
   "source": [
    "homelessness_ind = homelessness.sort_values('individuals')\n",
    "print(homelessness_ind.head(10))"
   ]
  },
  {
   "cell_type": "code",
   "execution_count": 14,
   "id": "3a67b7bd",
   "metadata": {},
   "outputs": [
    {
     "name": "stdout",
     "output_type": "stream",
     "text": [
      "                region          state  individuals  family_members  state_pop\n",
      "32        Mid-Atlantic       New York      39827.0         52070.0   19530351\n",
      "4              Pacific     California     109008.0         20964.0   39461588\n",
      "21         New England  Massachusetts       6811.0         13257.0    6882635\n",
      "9       South Atlantic        Florida      21443.0          9587.0   21244317\n",
      "43  West South Central          Texas      19199.0          6111.0   28628666\n",
      "47             Pacific     Washington      16424.0          5880.0    7523869\n",
      "38        Mid-Atlantic   Pennsylvania       8163.0          5349.0   12800922\n",
      "13  East North Central       Illinois       6752.0          3891.0   12723071\n",
      "30        Mid-Atlantic     New Jersey       6048.0          3350.0    8886025\n",
      "37             Pacific         Oregon      11139.0          3337.0    4181886\n"
     ]
    }
   ],
   "source": [
    "homelessness_fam = homelessness.sort_values('family_members', ascending=False)\n",
    "print(homelessness_fam.head(10))"
   ]
  },
  {
   "cell_type": "code",
   "execution_count": 15,
   "id": "14ba67f2",
   "metadata": {},
   "outputs": [
    {
     "name": "stdout",
     "output_type": "stream",
     "text": [
      "                region          state  individuals  family_members  state_pop\n",
      "13  East North Central       Illinois       6752.0          3891.0   12723071\n",
      "35  East North Central           Ohio       6929.0          3320.0   11676341\n",
      "22  East North Central       Michigan       5209.0          3142.0    9984072\n",
      "49  East North Central      Wisconsin       2740.0          2167.0    5807406\n",
      "14  East North Central        Indiana       3776.0          1482.0    6695497\n",
      "42  East South Central      Tennessee       6139.0          1744.0    6771631\n",
      "17  East South Central       Kentucky       2735.0           953.0    4461153\n",
      "0   East South Central        Alabama       2570.0           864.0    4887681\n",
      "24  East South Central    Mississippi       1024.0           328.0    2981020\n",
      "32        Mid-Atlantic       New York      39827.0         52070.0   19530351\n",
      "38        Mid-Atlantic   Pennsylvania       8163.0          5349.0   12800922\n",
      "30        Mid-Atlantic     New Jersey       6048.0          3350.0    8886025\n",
      "5             Mountain       Colorado       7607.0          3250.0    5691287\n",
      "2             Mountain        Arizona       7259.0          2606.0    7158024\n",
      "44            Mountain           Utah       1904.0           972.0    3153550\n",
      "12            Mountain          Idaho       1297.0           715.0    1750536\n",
      "31            Mountain     New Mexico       1949.0           602.0    2092741\n",
      "28            Mountain         Nevada       7058.0           486.0    3027341\n",
      "26            Mountain        Montana        983.0           422.0    1060665\n",
      "50            Mountain        Wyoming        434.0           205.0     577601\n",
      "21         New England  Massachusetts       6811.0         13257.0    6882635\n",
      "6          New England    Connecticut       2280.0          1696.0    3571520\n",
      "19         New England          Maine       1450.0          1066.0    1339057\n",
      "29         New England  New Hampshire        835.0           615.0    1353465\n",
      "45         New England        Vermont        780.0           511.0     624358\n"
     ]
    }
   ],
   "source": [
    "homelessness_reg_fam = homelessness.sort_values(['region','family_members'], ascending=[True,False])\n",
    "print(homelessness_reg_fam.head(25))"
   ]
  },
  {
   "cell_type": "markdown",
   "id": "4a2286f4",
   "metadata": {},
   "source": [
    "## Subconjuntos de Columnas\n",
    "\n",
    "Hay muchas formas de subconjuntar un data frame, quisa la mas común sea utilizar operadores relacionales para devolver True o False para cada fila y luego pasarlo entre corchetes.\n",
    "\n",
    "`dogs[dogs['height_cm'] > 60]`\n",
    "`dogs[dogs['color'] == 'tan']`\n",
    "\n",
    "Puedes filtrar por varias condiciones a la vez utilizando del operador &\n",
    "\n",
    "`dogs[(dogs['height_cm'] > 60) & (dogs['color'] == 'tan')]`\n",
    "\n",
    "**Instrucciones**\n",
    "1. Filtrar homelessness para los casos en los que el número de individuals sea superior a diez mil, asignandolos a `ind_gt_10k`. Visualizar el resultado.\n",
    "\n",
    "2. Filtra homelessness para los casos en los que la region es Mountain asignando a mountain_reg. Visualiza el resultado.\n",
    "\n",
    "3. Filtrar homelessness para los cosos en los que el numero de family_members sea inferior a mil y la region sea 'Pasifico', asignandolos a fam_lt_1k_pac. Visualizar los resultados."
   ]
  },
  {
   "cell_type": "code",
   "execution_count": 16,
   "id": "afa74fee",
   "metadata": {},
   "outputs": [
    {
     "name": "stdout",
     "output_type": "stream",
     "text": [
      "                region       state  individuals  family_members  state_pop\n",
      "4              Pacific  California     109008.0         20964.0   39461588\n",
      "9       South Atlantic     Florida      21443.0          9587.0   21244317\n",
      "32        Mid-Atlantic    New York      39827.0         52070.0   19530351\n",
      "37             Pacific      Oregon      11139.0          3337.0    4181886\n",
      "43  West South Central       Texas      19199.0          6111.0   28628666\n"
     ]
    }
   ],
   "source": [
    "ind_gt_10k = homelessness[homelessness['individuals'] > 10000]\n",
    "print(ind_gt_10k.head())"
   ]
  },
  {
   "cell_type": "code",
   "execution_count": 17,
   "id": "3fce69ec",
   "metadata": {},
   "outputs": [
    {
     "name": "stdout",
     "output_type": "stream",
     "text": [
      "      region     state  individuals  family_members  state_pop\n",
      "2   Mountain   Arizona       7259.0          2606.0    7158024\n",
      "5   Mountain  Colorado       7607.0          3250.0    5691287\n",
      "12  Mountain     Idaho       1297.0           715.0    1750536\n",
      "26  Mountain   Montana        983.0           422.0    1060665\n",
      "28  Mountain    Nevada       7058.0           486.0    3027341\n"
     ]
    }
   ],
   "source": [
    "mountain_reg = homelessness[homelessness['region'] == 'Mountain']\n",
    "mountain_reg.sort_values('region', ascending=True)\n",
    "print(mountain_reg.head())"
   ]
  },
  {
   "cell_type": "code",
   "execution_count": 18,
   "id": "49bf05ee",
   "metadata": {},
   "outputs": [
    {
     "name": "stdout",
     "output_type": "stream",
     "text": [
      "    region   state  individuals  family_members  state_pop\n",
      "1  Pacific  Alaska       1434.0           582.0     735139\n"
     ]
    }
   ],
   "source": [
    "fam_lt_1k_pc = homelessness[(homelessness['family_members'] < 1000) & (homelessness['region'] == 'Pacific')]\n",
    "print(fam_lt_1k_pc.head())"
   ]
  },
  {
   "cell_type": "markdown",
   "id": "760b2ecd",
   "metadata": {},
   "source": [
    "# Subconjunto de Filas por Variables Categoricas\n",
    "\n",
    "Utiliza el metodo `.isin()` que permitira abordar el problema escribiendo en una sola condicion en lugar de varias. Porque para segmentar variables categoricas se utiliza el operador |\n",
    "\n",
    "`colors = ['brown', 'black', 'tan']`\n",
    "\n",
    "`condition = dogs['color'].isin(colors)`\n",
    "\n",
    "`dogs['condition']`\n",
    "\n",
    "**Instrucciones**\n",
    "\n",
    "1. Filtra homelessness para los casos en los que el censo para los estados california, arizona, Nevada y utha. Asignandolo a mojave_homelessness"
   ]
  },
  {
   "cell_type": "code",
   "execution_count": 19,
   "id": "f73a901f",
   "metadata": {},
   "outputs": [
    {
     "name": "stdout",
     "output_type": "stream",
     "text": [
      "      region       state  individuals  family_members  state_pop\n",
      "2   Mountain     Arizona       7259.0          2606.0    7158024\n",
      "4    Pacific  California     109008.0         20964.0   39461588\n",
      "28  Mountain      Nevada       7058.0           486.0    3027341\n",
      "44  Mountain        Utah       1904.0           972.0    3153550\n"
     ]
    }
   ],
   "source": [
    "canu = ['California','Arizona','Nevada','Utah']\n",
    "mojave_homelessness = homelessness[homelessness['state'].isin(canu)]\n",
    "print(mojave_homelessness)"
   ]
  },
  {
   "cell_type": "markdown",
   "id": "e5ac3aea",
   "metadata": {},
   "source": [
    "## Añadir nuevas columnas\n",
    "\n",
    "No te quedes solo con los datos que te dan en sulugar se pueden añadir nuevas columnas a un dataframe a esto se le llamma transformacion, mutacion e ingenieria de caracteristas.\n",
    "\n",
    "Se pueden crear columnas nuevas desde 0 pero es avitual derivarlas de otras columnas, por ejemplo sumando culumnas o cambiando sus unidades.\n",
    "\n",
    "*Instrucciones*\n",
    "\n",
    "- Añade una nueva columna a homelessness, denomidada total que contenga la suma de las columnas individuales y family_members \n",
    "- Añade otra columna a homelessness, denominada p_homeless, que contenga la proporcion de la poblacion de personas sin hogar total con respecto a la poblacion total de cada estado stage_pop."
   ]
  },
  {
   "cell_type": "code",
   "execution_count": 23,
   "id": "e9551c20",
   "metadata": {},
   "outputs": [
    {
     "data": {
      "text/html": [
       "<div>\n",
       "<style scoped>\n",
       "    .dataframe tbody tr th:only-of-type {\n",
       "        vertical-align: middle;\n",
       "    }\n",
       "\n",
       "    .dataframe tbody tr th {\n",
       "        vertical-align: top;\n",
       "    }\n",
       "\n",
       "    .dataframe thead th {\n",
       "        text-align: right;\n",
       "    }\n",
       "</style>\n",
       "<table border=\"1\" class=\"dataframe\">\n",
       "  <thead>\n",
       "    <tr style=\"text-align: right;\">\n",
       "      <th></th>\n",
       "      <th>region</th>\n",
       "      <th>state</th>\n",
       "      <th>individuals</th>\n",
       "      <th>family_members</th>\n",
       "      <th>state_pop</th>\n",
       "      <th>total</th>\n",
       "      <th>p_homelessness</th>\n",
       "    </tr>\n",
       "  </thead>\n",
       "  <tbody>\n",
       "    <tr>\n",
       "      <th>0</th>\n",
       "      <td>East South Central</td>\n",
       "      <td>Alabama</td>\n",
       "      <td>2570.0</td>\n",
       "      <td>864.0</td>\n",
       "      <td>4887681</td>\n",
       "      <td>3434.0</td>\n",
       "      <td>0.000703</td>\n",
       "    </tr>\n",
       "    <tr>\n",
       "      <th>1</th>\n",
       "      <td>Pacific</td>\n",
       "      <td>Alaska</td>\n",
       "      <td>1434.0</td>\n",
       "      <td>582.0</td>\n",
       "      <td>735139</td>\n",
       "      <td>2016.0</td>\n",
       "      <td>0.002742</td>\n",
       "    </tr>\n",
       "    <tr>\n",
       "      <th>2</th>\n",
       "      <td>Mountain</td>\n",
       "      <td>Arizona</td>\n",
       "      <td>7259.0</td>\n",
       "      <td>2606.0</td>\n",
       "      <td>7158024</td>\n",
       "      <td>9865.0</td>\n",
       "      <td>0.001378</td>\n",
       "    </tr>\n",
       "    <tr>\n",
       "      <th>3</th>\n",
       "      <td>West South Central</td>\n",
       "      <td>Arkansas</td>\n",
       "      <td>2280.0</td>\n",
       "      <td>432.0</td>\n",
       "      <td>3009733</td>\n",
       "      <td>2712.0</td>\n",
       "      <td>0.000901</td>\n",
       "    </tr>\n",
       "    <tr>\n",
       "      <th>4</th>\n",
       "      <td>Pacific</td>\n",
       "      <td>California</td>\n",
       "      <td>109008.0</td>\n",
       "      <td>20964.0</td>\n",
       "      <td>39461588</td>\n",
       "      <td>129972.0</td>\n",
       "      <td>0.003294</td>\n",
       "    </tr>\n",
       "    <tr>\n",
       "      <th>5</th>\n",
       "      <td>Mountain</td>\n",
       "      <td>Colorado</td>\n",
       "      <td>7607.0</td>\n",
       "      <td>3250.0</td>\n",
       "      <td>5691287</td>\n",
       "      <td>10857.0</td>\n",
       "      <td>0.001908</td>\n",
       "    </tr>\n",
       "    <tr>\n",
       "      <th>6</th>\n",
       "      <td>New England</td>\n",
       "      <td>Connecticut</td>\n",
       "      <td>2280.0</td>\n",
       "      <td>1696.0</td>\n",
       "      <td>3571520</td>\n",
       "      <td>3976.0</td>\n",
       "      <td>0.001113</td>\n",
       "    </tr>\n",
       "    <tr>\n",
       "      <th>7</th>\n",
       "      <td>South Atlantic</td>\n",
       "      <td>Delaware</td>\n",
       "      <td>708.0</td>\n",
       "      <td>374.0</td>\n",
       "      <td>965479</td>\n",
       "      <td>1082.0</td>\n",
       "      <td>0.001121</td>\n",
       "    </tr>\n",
       "    <tr>\n",
       "      <th>8</th>\n",
       "      <td>South Atlantic</td>\n",
       "      <td>District of Columbia</td>\n",
       "      <td>3770.0</td>\n",
       "      <td>3134.0</td>\n",
       "      <td>701547</td>\n",
       "      <td>6904.0</td>\n",
       "      <td>0.009841</td>\n",
       "    </tr>\n",
       "    <tr>\n",
       "      <th>9</th>\n",
       "      <td>South Atlantic</td>\n",
       "      <td>Florida</td>\n",
       "      <td>21443.0</td>\n",
       "      <td>9587.0</td>\n",
       "      <td>21244317</td>\n",
       "      <td>31030.0</td>\n",
       "      <td>0.001461</td>\n",
       "    </tr>\n",
       "  </tbody>\n",
       "</table>\n",
       "</div>"
      ],
      "text/plain": [
       "               region                 state  individuals  family_members  \\\n",
       "0  East South Central               Alabama       2570.0           864.0   \n",
       "1             Pacific                Alaska       1434.0           582.0   \n",
       "2            Mountain               Arizona       7259.0          2606.0   \n",
       "3  West South Central              Arkansas       2280.0           432.0   \n",
       "4             Pacific            California     109008.0         20964.0   \n",
       "5            Mountain              Colorado       7607.0          3250.0   \n",
       "6         New England           Connecticut       2280.0          1696.0   \n",
       "7      South Atlantic              Delaware        708.0           374.0   \n",
       "8      South Atlantic  District of Columbia       3770.0          3134.0   \n",
       "9      South Atlantic               Florida      21443.0          9587.0   \n",
       "\n",
       "   state_pop     total  p_homelessness  \n",
       "0    4887681    3434.0        0.000703  \n",
       "1     735139    2016.0        0.002742  \n",
       "2    7158024    9865.0        0.001378  \n",
       "3    3009733    2712.0        0.000901  \n",
       "4   39461588  129972.0        0.003294  \n",
       "5    5691287   10857.0        0.001908  \n",
       "6    3571520    3976.0        0.001113  \n",
       "7     965479    1082.0        0.001121  \n",
       "8     701547    6904.0        0.009841  \n",
       "9   21244317   31030.0        0.001461  "
      ]
     },
     "execution_count": 23,
     "metadata": {},
     "output_type": "execute_result"
    }
   ],
   "source": [
    "# Agregar una columna total como la suma de individuals y family_members\n",
    "homelessness['total'] = homelessness['individuals'] + homelessness['family_members']\n",
    "\n",
    "# Agregar una columna D_homeless como proporcion del total de homeless de la poblacion\n",
    "# para el estaodo de la poblacion (state_pop)\n",
    "homelessness['p_homelessness'] = homelessness['total'] / homelessness['state_pop']\n",
    "\n",
    "# visualizar el resultado\n",
    "homelessness.head(10)"
   ]
  },
  {
   "cell_type": "code",
   "execution_count": null,
   "id": "3a17176a",
   "metadata": {},
   "outputs": [
    {
     "data": {
      "text/html": [
       "<div>\n",
       "<style scoped>\n",
       "    .dataframe tbody tr th:only-of-type {\n",
       "        vertical-align: middle;\n",
       "    }\n",
       "\n",
       "    .dataframe tbody tr th {\n",
       "        vertical-align: top;\n",
       "    }\n",
       "\n",
       "    .dataframe thead th {\n",
       "        text-align: right;\n",
       "    }\n",
       "</style>\n",
       "<table border=\"1\" class=\"dataframe\">\n",
       "  <thead>\n",
       "    <tr style=\"text-align: right;\">\n",
       "      <th></th>\n",
       "      <th>state</th>\n",
       "      <th>individuals</th>\n",
       "      <th>state_pop</th>\n",
       "      <th>total</th>\n",
       "      <th>p_homelessness</th>\n",
       "    </tr>\n",
       "  </thead>\n",
       "  <tbody>\n",
       "    <tr>\n",
       "      <th>0</th>\n",
       "      <td>Alabama</td>\n",
       "      <td>2570.0</td>\n",
       "      <td>4887681</td>\n",
       "      <td>3434.0</td>\n",
       "      <td>0.000703</td>\n",
       "    </tr>\n",
       "    <tr>\n",
       "      <th>1</th>\n",
       "      <td>Alaska</td>\n",
       "      <td>1434.0</td>\n",
       "      <td>735139</td>\n",
       "      <td>2016.0</td>\n",
       "      <td>0.002742</td>\n",
       "    </tr>\n",
       "    <tr>\n",
       "      <th>2</th>\n",
       "      <td>Arizona</td>\n",
       "      <td>7259.0</td>\n",
       "      <td>7158024</td>\n",
       "      <td>9865.0</td>\n",
       "      <td>0.001378</td>\n",
       "    </tr>\n",
       "    <tr>\n",
       "      <th>3</th>\n",
       "      <td>Arkansas</td>\n",
       "      <td>2280.0</td>\n",
       "      <td>3009733</td>\n",
       "      <td>2712.0</td>\n",
       "      <td>0.000901</td>\n",
       "    </tr>\n",
       "    <tr>\n",
       "      <th>4</th>\n",
       "      <td>California</td>\n",
       "      <td>109008.0</td>\n",
       "      <td>39461588</td>\n",
       "      <td>129972.0</td>\n",
       "      <td>0.003294</td>\n",
       "    </tr>\n",
       "    <tr>\n",
       "      <th>5</th>\n",
       "      <td>Colorado</td>\n",
       "      <td>7607.0</td>\n",
       "      <td>5691287</td>\n",
       "      <td>10857.0</td>\n",
       "      <td>0.001908</td>\n",
       "    </tr>\n",
       "    <tr>\n",
       "      <th>6</th>\n",
       "      <td>Connecticut</td>\n",
       "      <td>2280.0</td>\n",
       "      <td>3571520</td>\n",
       "      <td>3976.0</td>\n",
       "      <td>0.001113</td>\n",
       "    </tr>\n",
       "    <tr>\n",
       "      <th>7</th>\n",
       "      <td>Delaware</td>\n",
       "      <td>708.0</td>\n",
       "      <td>965479</td>\n",
       "      <td>1082.0</td>\n",
       "      <td>0.001121</td>\n",
       "    </tr>\n",
       "    <tr>\n",
       "      <th>8</th>\n",
       "      <td>District of Columbia</td>\n",
       "      <td>3770.0</td>\n",
       "      <td>701547</td>\n",
       "      <td>6904.0</td>\n",
       "      <td>0.009841</td>\n",
       "    </tr>\n",
       "    <tr>\n",
       "      <th>9</th>\n",
       "      <td>Florida</td>\n",
       "      <td>21443.0</td>\n",
       "      <td>21244317</td>\n",
       "      <td>31030.0</td>\n",
       "      <td>0.001461</td>\n",
       "    </tr>\n",
       "  </tbody>\n",
       "</table>\n",
       "</div>"
      ],
      "text/plain": [
       "                  state  individuals  state_pop     total  p_homelessness\n",
       "0               Alabama       2570.0    4887681    3434.0        0.000703\n",
       "1                Alaska       1434.0     735139    2016.0        0.002742\n",
       "2               Arizona       7259.0    7158024    9865.0        0.001378\n",
       "3              Arkansas       2280.0    3009733    2712.0        0.000901\n",
       "4            California     109008.0   39461588  129972.0        0.003294\n",
       "5              Colorado       7607.0    5691287   10857.0        0.001908\n",
       "6           Connecticut       2280.0    3571520    3976.0        0.001113\n",
       "7              Delaware        708.0     965479    1082.0        0.001121\n",
       "8  District of Columbia       3770.0     701547    6904.0        0.009841\n",
       "9               Florida      21443.0   21244317   31030.0        0.001461"
      ]
     },
     "execution_count": 24,
     "metadata": {},
     "output_type": "execute_result"
    }
   ],
   "source": [
    "# Subconjuntando filas\n",
    "columnas = ['state','individuals','state_pop','total','p_homelessness']\n",
    "homelessness[columnas].head(10)"
   ]
  },
  {
   "cell_type": "markdown",
   "id": "59f0ca2d",
   "metadata": {},
   "source": [
    "## Practica - Combo ataque\n",
    "\n",
    "Hasta ahora se han visto los cuatro tipos mas comunes de manipulacion de datos: `ordenar filas`, `subconjuntar columnas`, `subconjuntar filas`, y `añadir nuevas columnas`.\n",
    "\n",
    "En un analisis de la vida real, puedes mezclar y combinar estas cuatro manipulaciones pararesponser a multiples preguntas.\n",
    "\n",
    "En este ejercicio, responderas la pregubta: `\"Que estado tiene el manor numero de personas sin hogar por cada 10 000 habitantes \"`. Combina las nuevas habilidades en pandas para averiguarlo.\n",
    "\n",
    "**Instrucciones**\n",
    " - Añade una comunla a homelessness, indiv_per_10k, que contenga el numero de personas sin hogar por cada 10k de personas en cada estado, utilizando state_pop para la poblacion del estado.\n",
    "\n",
    " - Subconjunta las filas en las que indiv_per_10k sea superior a 20, asignandolas a hight_homelessness.\n",
    "\n",
    " - Ordenar high_homelessness_srt. Seleccionando solo las columnas state_pop y indiv_per_10k de high_homelessness_srt, guardarlas como result y visualizarlo."
   ]
  },
  {
   "cell_type": "code",
   "execution_count": 28,
   "id": "4e4a42dd",
   "metadata": {},
   "outputs": [
    {
     "data": {
      "text/html": [
       "<div>\n",
       "<style scoped>\n",
       "    .dataframe tbody tr th:only-of-type {\n",
       "        vertical-align: middle;\n",
       "    }\n",
       "\n",
       "    .dataframe tbody tr th {\n",
       "        vertical-align: top;\n",
       "    }\n",
       "\n",
       "    .dataframe thead th {\n",
       "        text-align: right;\n",
       "    }\n",
       "</style>\n",
       "<table border=\"1\" class=\"dataframe\">\n",
       "  <thead>\n",
       "    <tr style=\"text-align: right;\">\n",
       "      <th></th>\n",
       "      <th>region</th>\n",
       "      <th>state</th>\n",
       "      <th>individuals</th>\n",
       "      <th>family_members</th>\n",
       "      <th>state_pop</th>\n",
       "      <th>total</th>\n",
       "      <th>p_homelessness</th>\n",
       "      <th>indiv_per_10k</th>\n",
       "    </tr>\n",
       "  </thead>\n",
       "  <tbody>\n",
       "    <tr>\n",
       "      <th>8</th>\n",
       "      <td>South Atlantic</td>\n",
       "      <td>District of Columbia</td>\n",
       "      <td>3770.0</td>\n",
       "      <td>3134.0</td>\n",
       "      <td>701547</td>\n",
       "      <td>6904.0</td>\n",
       "      <td>0.009841</td>\n",
       "      <td>53.738381</td>\n",
       "    </tr>\n",
       "    <tr>\n",
       "      <th>11</th>\n",
       "      <td>Pacific</td>\n",
       "      <td>Hawaii</td>\n",
       "      <td>4131.0</td>\n",
       "      <td>2399.0</td>\n",
       "      <td>1420593</td>\n",
       "      <td>6530.0</td>\n",
       "      <td>0.004597</td>\n",
       "      <td>29.079406</td>\n",
       "    </tr>\n",
       "    <tr>\n",
       "      <th>4</th>\n",
       "      <td>Pacific</td>\n",
       "      <td>California</td>\n",
       "      <td>109008.0</td>\n",
       "      <td>20964.0</td>\n",
       "      <td>39461588</td>\n",
       "      <td>129972.0</td>\n",
       "      <td>0.003294</td>\n",
       "      <td>27.623825</td>\n",
       "    </tr>\n",
       "    <tr>\n",
       "      <th>37</th>\n",
       "      <td>Pacific</td>\n",
       "      <td>Oregon</td>\n",
       "      <td>11139.0</td>\n",
       "      <td>3337.0</td>\n",
       "      <td>4181886</td>\n",
       "      <td>14476.0</td>\n",
       "      <td>0.003462</td>\n",
       "      <td>26.636307</td>\n",
       "    </tr>\n",
       "    <tr>\n",
       "      <th>28</th>\n",
       "      <td>Mountain</td>\n",
       "      <td>Nevada</td>\n",
       "      <td>7058.0</td>\n",
       "      <td>486.0</td>\n",
       "      <td>3027341</td>\n",
       "      <td>7544.0</td>\n",
       "      <td>0.002492</td>\n",
       "      <td>23.314189</td>\n",
       "    </tr>\n",
       "    <tr>\n",
       "      <th>47</th>\n",
       "      <td>Pacific</td>\n",
       "      <td>Washington</td>\n",
       "      <td>16424.0</td>\n",
       "      <td>5880.0</td>\n",
       "      <td>7523869</td>\n",
       "      <td>22304.0</td>\n",
       "      <td>0.002964</td>\n",
       "      <td>21.829195</td>\n",
       "    </tr>\n",
       "    <tr>\n",
       "      <th>32</th>\n",
       "      <td>Mid-Atlantic</td>\n",
       "      <td>New York</td>\n",
       "      <td>39827.0</td>\n",
       "      <td>52070.0</td>\n",
       "      <td>19530351</td>\n",
       "      <td>91897.0</td>\n",
       "      <td>0.004705</td>\n",
       "      <td>20.392363</td>\n",
       "    </tr>\n",
       "  </tbody>\n",
       "</table>\n",
       "</div>"
      ],
      "text/plain": [
       "            region                 state  individuals  family_members  \\\n",
       "8   South Atlantic  District of Columbia       3770.0          3134.0   \n",
       "11         Pacific                Hawaii       4131.0          2399.0   \n",
       "4          Pacific            California     109008.0         20964.0   \n",
       "37         Pacific                Oregon      11139.0          3337.0   \n",
       "28        Mountain                Nevada       7058.0           486.0   \n",
       "47         Pacific            Washington      16424.0          5880.0   \n",
       "32    Mid-Atlantic              New York      39827.0         52070.0   \n",
       "\n",
       "    state_pop     total  p_homelessness  indiv_per_10k  \n",
       "8      701547    6904.0        0.009841      53.738381  \n",
       "11    1420593    6530.0        0.004597      29.079406  \n",
       "4    39461588  129972.0        0.003294      27.623825  \n",
       "37    4181886   14476.0        0.003462      26.636307  \n",
       "28    3027341    7544.0        0.002492      23.314189  \n",
       "47    7523869   22304.0        0.002964      21.829195  \n",
       "32   19530351   91897.0        0.004705      20.392363  "
      ]
     },
     "execution_count": 28,
     "metadata": {},
     "output_type": "execute_result"
    }
   ],
   "source": [
    "# Crear la columna indiv_per_10k\n",
    "homelessness['indiv_per_10k'] = homelessness['individuals'] / homelessness['state_pop'] * 10000\n",
    "\n",
    "# Subconjuntar filas para indiv_per_10k mayores que 20\n",
    "hight_homelessness = homelessness[homelessness['indiv_per_10k'] > 20]\n",
    "\n",
    "# Ordenar hight_homelessness por indiv_per_10k\n",
    "result = hight_homelessness.sort_values('indiv_per_10k', ascending=False)\n",
    "\n",
    "# Visualizar el resultado\n",
    "result"
   ]
  },
  {
   "cell_type": "markdown",
   "id": "4aba54ab",
   "metadata": {},
   "source": [
    "El District of Columbia tiene el mayor número de individuos sin hogar - casi 54 por cada diez mil personas. Esto es casi el doble del numero del sigiente estado con mas casos, Hawaii."
   ]
  }
 ],
 "metadata": {
  "kernelspec": {
   "display_name": "Python 3",
   "language": "python",
   "name": "python3"
  },
  "language_info": {
   "codemirror_mode": {
    "name": "ipython",
    "version": 3
   },
   "file_extension": ".py",
   "mimetype": "text/x-python",
   "name": "python",
   "nbconvert_exporter": "python",
   "pygments_lexer": "ipython3",
   "version": "3.12.0"
  }
 },
 "nbformat": 4,
 "nbformat_minor": 5
}
