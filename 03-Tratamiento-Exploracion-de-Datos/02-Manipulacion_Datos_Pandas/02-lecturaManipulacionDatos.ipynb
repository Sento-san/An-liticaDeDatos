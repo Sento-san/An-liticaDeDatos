{
 "cells": [
  {
   "cell_type": "markdown",
   "id": "5528ab62",
   "metadata": {},
   "source": [
    "## Exploracion: Comandos o Metodos, `head()`, `info()`, `describe`, `dtype` y `shape`"
   ]
  },
  {
   "cell_type": "code",
   "execution_count": 1,
   "id": "8b7449fd",
   "metadata": {},
   "outputs": [],
   "source": [
    "import pandas as pd"
   ]
  },
  {
   "cell_type": "markdown",
   "id": "c6bb88cf",
   "metadata": {},
   "source": [
    "## Seleccion y Filtrado de Datos"
   ]
  },
  {
   "cell_type": "code",
   "execution_count": null,
   "id": "92f82432",
   "metadata": {},
   "outputs": [],
   "source": [
    "df.columns"
   ]
  },
  {
   "cell_type": "code",
   "execution_count": null,
   "id": "e3f55174",
   "metadata": {},
   "outputs": [],
   "source": [
    "df['onsite_remote'] == 'remote'"
   ]
  },
  {
   "cell_type": "code",
   "execution_count": null,
   "id": "45b7fbf4",
   "metadata": {},
   "outputs": [],
   "source": [
    "type(df['outsite_remote'] == 'remote')"
   ]
  },
  {
   "cell_type": "code",
   "execution_count": null,
   "id": "68b5cc23",
   "metadata": {},
   "outputs": [],
   "source": [
    "df[df['outsite_remote'] == 'remote']"
   ]
  },
  {
   "cell_type": "code",
   "execution_count": null,
   "id": "ce1a3755",
   "metadata": {},
   "outputs": [],
   "source": [
    "df_remote = df[df['outsite_remote'] == 'remote']"
   ]
  },
  {
   "cell_type": "code",
   "execution_count": null,
   "id": "a76bf82b",
   "metadata": {},
   "outputs": [],
   "source": [
    "df_remote.head()"
   ]
  },
  {
   "cell_type": "code",
   "execution_count": null,
   "id": "b3e9d44e",
   "metadata": {},
   "outputs": [],
   "source": [
    "df_remote[['titlr','company','onsite_remote']]"
   ]
  },
  {
   "cell_type": "code",
   "execution_count": null,
   "id": "5248aef9",
   "metadata": {},
   "outputs": [],
   "source": [
    "colum_visualizar = ['title','company','onsite_remote']\n",
    "df_remote[colum_visualizar]"
   ]
  },
  {
   "cell_type": "code",
   "execution_count": null,
   "id": "fef91214",
   "metadata": {},
   "outputs": [],
   "source": [
    "df_data_analyst = df[df['title'] == 'Data Analyst']"
   ]
  },
  {
   "cell_type": "markdown",
   "id": "08eac45d",
   "metadata": {},
   "source": [
    "## Filtrado con Operadores Logicos en Pandas\n",
    "\n",
    "Los operadores logicos permiten filtrar datos combinando condiciones."
   ]
  },
  {
   "cell_type": "code",
   "execution_count": null,
   "id": "01bcd058",
   "metadata": {},
   "outputs": [],
   "source": [
    "df[df['ounsite_remote'] == 'remote']"
   ]
  },
  {
   "cell_type": "markdown",
   "id": "7b11e999",
   "metadata": {},
   "source": [
    "- Muestra todos los onsite_remote que no son remotos"
   ]
  },
  {
   "cell_type": "code",
   "execution_count": null,
   "id": "69fa0f64",
   "metadata": {},
   "outputs": [],
   "source": [
    "df[~(df['onsite_remote'] == 'remote')]"
   ]
  },
  {
   "cell_type": "markdown",
   "id": "f46577b7",
   "metadata": {},
   "source": [
    "### Trabajos que NO sean de Amazon NI Remotos"
   ]
  },
  {
   "cell_type": "code",
   "execution_count": null,
   "id": "52313cb5",
   "metadata": {},
   "outputs": [],
   "source": [
    "df[~((df['company'] == 'Amazon') & (df['onsite_remote'] == 'remote'))]"
   ]
  }
 ],
 "metadata": {
  "kernelspec": {
   "display_name": "Python 3",
   "language": "python",
   "name": "python3"
  },
  "language_info": {
   "codemirror_mode": {
    "name": "ipython",
    "version": 3
   },
   "file_extension": ".py",
   "mimetype": "text/x-python",
   "name": "python",
   "nbconvert_exporter": "python",
   "pygments_lexer": "ipython3",
   "version": "3.12.0"
  }
 },
 "nbformat": 4,
 "nbformat_minor": 5
}
