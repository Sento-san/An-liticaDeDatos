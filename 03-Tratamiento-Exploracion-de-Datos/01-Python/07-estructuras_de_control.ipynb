{
 "cells": [
  {
   "cell_type": "markdown",
   "id": "3d8e40e9",
   "metadata": {},
   "source": [
    "## Estructuras De Control\n",
    "\n",
    "### Onjetivos\n",
    "    - Conocer las estructuras de control, como funcionan y para que sirven\n",
    "\n",
    "---\n",
    "\n",
    "### Desarrollo"
   ]
  },
  {
   "cell_type": "markdown",
   "id": "1934e83d",
   "metadata": {},
   "source": [
    "Queremos darle a nuestro programa la capacidad de tomar decisiones, esto puede hacerse utilizando una `sentencia if`, utiliza una comparacion para obtener un boolean. Si el boolean es `True`, el bloque de la sentencia se ejecuta. Si el booleano es `False` nos saltamos a lo que sigue del bloque."
   ]
  },
  {
   "cell_type": "code",
   "execution_count": 2,
   "id": "edeb157b",
   "metadata": {},
   "outputs": [],
   "source": [
    "var_1 = 4\n",
    "var_2 = 5"
   ]
  },
  {
   "cell_type": "code",
   "execution_count": 3,
   "id": "954c8e22",
   "metadata": {},
   "outputs": [
    {
     "name": "stdout",
     "output_type": "stream",
     "text": [
      "El bloque se ha execute\n"
     ]
    }
   ],
   "source": [
    "if var_1 < var_2:\n",
    "    print('El bloque se ha execute')"
   ]
  },
  {
   "cell_type": "code",
   "execution_count": 4,
   "id": "7da6ba6d",
   "metadata": {},
   "outputs": [
    {
     "name": "stdout",
     "output_type": "stream",
     "text": [
      "El numero 4 es menor que el numero 6\n"
     ]
    }
   ],
   "source": [
    "var_1 = int(input(\"Dame el primer valor\"))\n",
    "var_2 = int(input(\"Dame el primer valor\"))\n",
    "\n",
    "if var_1 < var_2:\n",
    "    print(f\"El numero {var_1} es menor que el numero {var_2}\")"
   ]
  },
  {
   "cell_type": "code",
   "execution_count": 5,
   "id": "2fd163d7",
   "metadata": {},
   "outputs": [],
   "source": [
    "# Funcion que solicita un valor\n",
    "\n",
    "def solicitar():\n",
    "    return int(input(\"Dame el valor\"))"
   ]
  },
  {
   "cell_type": "code",
   "execution_count": 6,
   "id": "4fd3b806",
   "metadata": {},
   "outputs": [],
   "source": [
    "def comparar(valor_1, valor_2):\n",
    "    if valor_1 < valor_2:\n",
    "        print(f\"El numero {var_1} es menor que el numero {var_2}\")"
   ]
  },
  {
   "cell_type": "code",
   "execution_count": 7,
   "id": "7c769771",
   "metadata": {},
   "outputs": [],
   "source": [
    "# Ejecucion de las funciones\n",
    "\n",
    "var_1 = solicitar\n",
    "var_2 = solicitar\n",
    "\n",
    "res = comparar"
   ]
  },
  {
   "cell_type": "markdown",
   "id": "32c2ad05",
   "metadata": {},
   "source": [
    "1. **Desarrollar un programa que determine si un numero es positivo**\n",
    "2. **Desarrollar un programa que determine si puedes votar, edad minima es 18 años**\n",
    "3. **Verificar que un numero sea par**\n",
    "4. **Realizar una simulaicion de un login, en el cual se debe verificar si la contraseña es correcta**\n",
    "5. **Realizar un programa para que determine si un alumno esta aprobado, la calificaion minima es 8**\n",
    "\n",
    "    - Todos los datos deben ser solicitados"
   ]
  },
  {
   "cell_type": "code",
   "execution_count": 8,
   "id": "05d570fc",
   "metadata": {},
   "outputs": [
    {
     "name": "stdout",
     "output_type": "stream",
     "text": [
      "El numero 5 es positivo\n"
     ]
    }
   ],
   "source": [
    "# Desarrollar un programa que determine si un numero es positivo\n",
    "var_1 = solicitar()\n",
    "\n",
    "if var_1 > 0:\n",
    "    print(f\"El numero {var_1} es positivo\")\n",
    "else:\n",
    "    print(f\"El numero {var_1} es negativo\")"
   ]
  },
  {
   "cell_type": "code",
   "execution_count": 9,
   "id": "c147c280",
   "metadata": {},
   "outputs": [
    {
     "name": "stdout",
     "output_type": "stream",
     "text": [
      "YA ERES MAYOR, si puedes votar\n"
     ]
    }
   ],
   "source": [
    "# Desarrollar un programa que determine si puedes votar, edad minima es 18 años\n",
    "var_1 = solicitar()\n",
    "\n",
    "if var_1 > 18:\n",
    "    print(\"YA ERES MAYOR, si puedes votar\")\n",
    "else:\n",
    "    print(\"NO ERES MAYOR, aun no puedes votar\")"
   ]
  },
  {
   "cell_type": "code",
   "execution_count": 10,
   "id": "cb4b132b",
   "metadata": {},
   "outputs": [
    {
     "name": "stdout",
     "output_type": "stream",
     "text": [
      "El numero 6 es par\n"
     ]
    }
   ],
   "source": [
    "# Verificar que un numero sea par\n",
    "var_1 = solicitar()\n",
    "\n",
    "if var_1 % 2 == 0:\n",
    "    print(f\"El numero {var_1} es par\")\n",
    "else:\n",
    "    print(f\"El numero {var_1} es impar\")"
   ]
  },
  {
   "cell_type": "code",
   "execution_count": 11,
   "id": "787198a9",
   "metadata": {},
   "outputs": [
    {
     "name": "stdout",
     "output_type": "stream",
     "text": [
      "Acceso denegado\n"
     ]
    }
   ],
   "source": [
    "# Realizar una simulaicion de un login, en el cual se debe verificar si la contraseña es correcta\n",
    "\n",
    "contraseña = 1234\n",
    "\n",
    "password = int(input(\"Dame la contraseña\"))\n",
    "\n",
    "if password == contraseña:\n",
    "    print('Tienes acceso total')\n",
    "else:\n",
    "    print('Acceso denegado')    "
   ]
  },
  {
   "cell_type": "code",
   "execution_count": 12,
   "id": "82afdc74",
   "metadata": {},
   "outputs": [
    {
     "name": "stdout",
     "output_type": "stream",
     "text": [
      "No feli, REPROVASTE!\n"
     ]
    }
   ],
   "source": [
    "# Realizar un programa para que determine si un alumno esta aprobado, la calificaion minima es 8\n",
    "var_1 = solicitar()\n",
    "\n",
    "if var_1 >= 8:\n",
    "    print(\"Feli, APROBASTE!\")\n",
    "else:\n",
    "    print(\"No feli, REPROVASTE!\")"
   ]
  },
  {
   "cell_type": "code",
   "execution_count": 13,
   "id": "96f0324f",
   "metadata": {},
   "outputs": [
    {
     "data": {
      "text/plain": [
       "True"
      ]
     },
     "execution_count": 13,
     "metadata": {},
     "output_type": "execute_result"
    }
   ],
   "source": [
    "res = 4>5 or 5==5\n",
    "res "
   ]
  },
  {
   "cell_type": "markdown",
   "id": "15e9526f",
   "metadata": {},
   "source": [
    "### Operadores Logicos\n",
    "---\n",
    "## Operador or\n",
    "\n",
    "| A   | B   | A or B |\n",
    "|-----|-----|--------|\n",
    "| F   | F   | F      |\n",
    "| T   | F   | T      |\n",
    "| F   | T   | T      |\n",
    "| T   | T   | T      |\n",
    "\n",
    "## Operador and\n",
    "\n",
    "| A   | B   | A and B |\n",
    "|-----|-----|---------|\n",
    "| F   | F   | F       |\n",
    "| T   | F   | F       |\n",
    "| F   | T   | F       |\n",
    "| T   | T   | T       |\n",
    "\n",
    "## Operador not\n",
    "\n",
    "| A   | not A |\n",
    "|-----|--------|\n",
    "| F   | T      |\n",
    "| T   | F      |"
   ]
  },
  {
   "cell_type": "code",
   "execution_count": 14,
   "id": "1348f370",
   "metadata": {},
   "outputs": [
    {
     "data": {
      "text/plain": [
       "False"
      ]
     },
     "execution_count": 14,
     "metadata": {},
     "output_type": "execute_result"
    }
   ],
   "source": [
    "res = 4>5 and 5==5\n",
    "res"
   ]
  },
  {
   "cell_type": "code",
   "execution_count": 15,
   "id": "f7482ea0",
   "metadata": {},
   "outputs": [
    {
     "data": {
      "text/plain": [
       "True"
      ]
     },
     "execution_count": 15,
     "metadata": {},
     "output_type": "execute_result"
    }
   ],
   "source": [
    "res = not(4>5 and 5==5)\n",
    "res "
   ]
  },
  {
   "cell_type": "markdown",
   "id": "1b306485",
   "metadata": {},
   "source": [
    "### Ejercicios propuestos\n",
    "\n",
    "1. Verificar si un numero esta en rango de 10 y 20\n",
    "2. Verificar si un usuario tiene acceso al charlys si tiene minimo 18 años o tiene permiso especial\n",
    "3. Verificar si un numero no es igual a cero\n",
    "4. Verificar si un valor esta fuera del rango de 0 y 30"
   ]
  },
  {
   "cell_type": "code",
   "execution_count": 16,
   "id": "63d099b8",
   "metadata": {},
   "outputs": [
    {
     "ename": "TypeError",
     "evalue": "'>=' not supported between instances of 'function' and 'int'",
     "output_type": "error",
     "traceback": [
      "\u001b[31m---------------------------------------------------------------------------\u001b[39m",
      "\u001b[31mTypeError\u001b[39m                                 Traceback (most recent call last)",
      "\u001b[36mCell\u001b[39m\u001b[36m \u001b[39m\u001b[32mIn[16]\u001b[39m\u001b[32m, line 3\u001b[39m\n\u001b[32m      1\u001b[39m \u001b[38;5;66;03m# 1. Verificar si un numero esta en rango de 10 y 20\u001b[39;00m\n\u001b[32m      2\u001b[39m var_1 = solicitar\n\u001b[32m----> \u001b[39m\u001b[32m3\u001b[39m \u001b[38;5;28;01mif\u001b[39;00m(\u001b[43mvar_1\u001b[49m\u001b[43m \u001b[49m\u001b[43m>\u001b[49m\u001b[43m=\u001b[49m\u001b[43m \u001b[49m\u001b[32;43m10\u001b[39;49m \u001b[38;5;129;01mand\u001b[39;00m var_1 <=\u001b[32m20\u001b[39m):\n\u001b[32m      4\u001b[39m     \u001b[38;5;28mprint\u001b[39m(\u001b[33m'\u001b[39m\u001b[33mEl numero si esta en el rango\u001b[39m\u001b[33m'\u001b[39m)\n\u001b[32m      5\u001b[39m \u001b[38;5;28;01melse\u001b[39;00m:\n",
      "\u001b[31mTypeError\u001b[39m: '>=' not supported between instances of 'function' and 'int'"
     ]
    }
   ],
   "source": [
    "# 1. Verificar si un numero esta en rango de 10 y 20\n",
    "var_1 = solicitar\n",
    "if(var_1 >= 10 and var_1 <=20):\n",
    "    print('El numero si esta en el rango')\n",
    "else:\n",
    "    print('El numero no esta en el rango')"
   ]
  },
  {
   "cell_type": "code",
   "execution_count": null,
   "id": "d3579a12",
   "metadata": {},
   "outputs": [],
   "source": [
    "# 2. Verificar si un usuario tiene acceso al charlys si tiene minimo 18 años o tiene permiso especial\n"
   ]
  },
  {
   "cell_type": "code",
   "execution_count": null,
   "id": "14e3e5e3",
   "metadata": {},
   "outputs": [],
   "source": [
    "# 3. Verificar si un numero no es igual a cero\n",
    "var_1 = solicitar\n",
    "if(var_1 > 0 or var_1 < 0):\n",
    "    print('El numero no es igual a cero')\n",
    "else:\n",
    "    print('El numero si es igual a cero')"
   ]
  },
  {
   "cell_type": "code",
   "execution_count": null,
   "id": "79de8d62",
   "metadata": {},
   "outputs": [],
   "source": [
    "# 4. Verificar si un valor esta fuera del rango de 0 y 30\n",
    "var_1 = solicitar\n",
    "if(var_1 < 0 or var_1 > 30):\n",
    "    print('El valor no esta en el rango')\n",
    "else:\n",
    "    print('El valor si esta en el rango')"
   ]
  },
  {
   "cell_type": "markdown",
   "id": "df5a2e48",
   "metadata": {},
   "source": [
    "Hay veces que queremos tener una accion `default`, que queremos que sucedan en caso de que la comparacion sea `False`. Para esto podemos usar una sentencia `else`. Piensalo como como preguntarse a uno mismo: \"Si meto mi mano a la bolsa y resulta que encuentro un billete de $50, me compro unos nachos; Y si no hay nada, vere una pelicula con mi novio llorando de tristeza porque no es el otro\""
   ]
  },
  {
   "cell_type": "code",
   "execution_count": null,
   "id": "c57070d0",
   "metadata": {},
   "outputs": [
    {
     "name": "stdout",
     "output_type": "stream",
     "text": [
      "La condicion no se cumplio, y por lo tanto yo me imprimo\n"
     ]
    }
   ],
   "source": [
    "var_1 = 4\n",
    "var_2 = 5\n",
    "\n",
    "if(var_1 > var_2):\n",
    "    print('La condicion se cumplio')\n",
    "else:\n",
    "    print('La condicion no se cumplio, ' \\\n",
    "    'y por lo tanto yo me imprimo')"
   ]
  },
  {
   "cell_type": "code",
   "execution_count": null,
   "id": "ff443d74",
   "metadata": {},
   "outputs": [],
   "source": [
    "# Encontrar el numero mas grande de dos numeros\n",
    "numero1 = int(input('Introduce el numero 1'))\n",
    "numero2 = int(input('Introduce el numero 2'))\n",
    "\n",
    "# Elegir el numero mas grande\n",
    "if(numero1 > numero2):\n",
    "    print(f'El numero {numero1} es mayor al numero {numero2}')\n",
    "else:\n",
    "    print(f'El numero {numero2} es mayor al numero {numero1}')"
   ]
  },
  {
   "cell_type": "code",
   "execution_count": null,
   "id": "5af98c8b",
   "metadata": {},
   "outputs": [],
   "source": [
    "numero1 = int(input('Introduce el numero 1'))\n",
    "numero2 = int(input('Introduce el numero 2'))\n",
    "if(numero1 > numero2):\n",
    "    num_mayor = numero1\n",
    "else:\n",
    "    num_mayor = numero2\n",
    "\n",
    "print(f'El numero mayor es {num_mayor}')"
   ]
  },
  {
   "cell_type": "markdown",
   "id": "8ef53223",
   "metadata": {},
   "source": [
    "Si queremos que haya mas de dos opciones, podemos agregar mas opciones utilizando la sentencia `elif`."
   ]
  },
  {
   "cell_type": "code",
   "execution_count": null,
   "id": "d7a488b8",
   "metadata": {},
   "outputs": [],
   "source": [
    "var_1 = 12\n",
    "var_2 = 14\n",
    "\n",
    "if(var_1 > var_2):\n",
    "    print(f'El {var_1} es mayor a {var_2}')\n",
    "elif var_2 > var_1:\n",
    "    print(f'El {var_2} es mayor a {var_1}')\n",
    "else:\n",
    "    print(f'El {var_1} es mayor a {var_2}')"
   ]
  },
  {
   "cell_type": "markdown",
   "id": "83fb6b81",
   "metadata": {},
   "source": [
    "### Ejercicio Propuesto\n",
    "\n",
    "#### 1. Comparaciones numéricas\n",
    "\n",
    "Vamos a imaginar que estamos analizando un conjunto de datos que contiene las ventas anuales en pesos de unos vendedores que trabajan en nuestra empresa. Obtenemos el total de ventas anuales en pesos y lo tenemos asignado a la variable ventas_anuales_totales. Escribe una estructura de control que nos diga de cuánto va a ser el bono de nuestro empleado.\n",
    "\n",
    "Si las ventas son mayores a `$`1,000,000 el bono será de 20% del sueldo; si son entre `$`700,000 y `$`1,000,000 el bono será de 15% del sueldo; entre `$`400,000 y `$`700,000 el bono será de 10% del sueldo; entre `$`100,00 y 400,000 el bono será de 5% del sueldo; y debajo de `$`100,000 el bono será del 1% del sueldo.\n",
    "\n",
    "Escribe tu estructura de control y, por ahora (más adelante tendremos más herramientas para hacer esto más interesante) imprime una string que diga de cuánto va a ser el bono.\n",
    "\n",
    "> Reto opcional: Agrega una variable sueldo que sea el sueldo de tu empleado y agrégale el porcentaje de bono a esa variable dependiendo de la condición que se cumpla. Después hasta el final imprime una string interpolada que diga algo como \"Felicidades, tu sueldo es x; tu bono es de x; y el total de sueldo con el bono incluido es de x\". ¡Para que esto funcione también debes de agregar una variable donde guardes la cantidad del bono!"
   ]
  },
  {
   "cell_type": "code",
   "execution_count": 17,
   "id": "2cc9aa01",
   "metadata": {},
   "outputs": [
    {
     "name": "stdout",
     "output_type": "stream",
     "text": [
      "El bono es 50000.0\n"
     ]
    }
   ],
   "source": [
    "sueldo_base = int(input('Dame tu sueldo base'))\n",
    "ventas_anuales_totales = int(input('Dame las ventas anuales que hiciste'))\n",
    "\n",
    "if(ventas_anuales_totales > 1000000):\n",
    "    bono = ventas_anuales_totales * 0.20\n",
    "elif ventas_anuales_totales > 700000 and ventas_anuales_totales <= 1000000:\n",
    "    bono = ventas_anuales_totales * 0.15\n",
    "elif ventas_anuales_totales > 400000 and ventas_anuales_totales <= 700000:\n",
    "    bono = ventas_anuales_totales * 0.10\n",
    "elif ventas_anuales_totales > 100000 and ventas_anuales_totales <= 400000:\n",
    "    bono = ventas_anuales_totales * 0.05\n",
    "elif ventas_anuales_totales < 100000:\n",
    "    bono = ventas_anuales_totales * 0.01\n",
    "\n",
    "print(f'El bono es {bono}')"
   ]
  }
 ],
 "metadata": {
  "kernelspec": {
   "display_name": "Python 3",
   "language": "python",
   "name": "python3"
  },
  "language_info": {
   "codemirror_mode": {
    "name": "ipython",
    "version": 3
   },
   "file_extension": ".py",
   "mimetype": "text/x-python",
   "name": "python",
   "nbconvert_exporter": "python",
   "pygments_lexer": "ipython3",
   "version": "3.12.0"
  }
 },
 "nbformat": 4,
 "nbformat_minor": 5
}
