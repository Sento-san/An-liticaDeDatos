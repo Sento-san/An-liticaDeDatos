{
 "cells": [
  {
   "cell_type": "markdown",
   "id": "e0108502",
   "metadata": {},
   "source": [
    "## Crear y Accesar a los Diccionarios"
   ]
  },
  {
   "cell_type": "markdown",
   "id": "b60993bb",
   "metadata": {},
   "source": [
    "## Objetivos\n",
    "- Aprender a crear diccionarios con pares llaves-valor.\n",
    "- Aprender a accesar a los valores guardados."
   ]
  },
  {
   "cell_type": "markdown",
   "id": "559f12db",
   "metadata": {},
   "source": [
    "## Desarrollo:\n",
    "\n",
    "Los diccionarios se definen usando (`{}`)"
   ]
  },
  {
   "cell_type": "code",
   "execution_count": 1,
   "id": "9492825e",
   "metadata": {},
   "outputs": [],
   "source": [
    "diccionario_1 = {}"
   ]
  },
  {
   "cell_type": "markdown",
   "id": "e0590ee4",
   "metadata": {},
   "source": [
    "diccionario_1 ya es un diccionario solo que esta vacio, para incluir datos dentro de un diccionario tenemos que agregar pares llave-valor dentro de las llaver (`{}`), cada par llave-valor se separa con una (`,`):"
   ]
  },
  {
   "cell_type": "code",
   "execution_count": 2,
   "id": "c42cc3eb",
   "metadata": {},
   "outputs": [],
   "source": [
    "diccionario_2 = {\n",
    "    \"llave_1\":\"valor_1\",\n",
    "    \"llave_2\":\"valor_2\",\n",
    "    \"llave_3\":\"valor_3\",\n",
    "    \"llave_4\":\"valor_4\"\n",
    "}"
   ]
  },
  {
   "cell_type": "markdown",
   "id": "b39401ee",
   "metadata": {},
   "source": [
    "Nuestras llaves pueden ser tanto `Spring` como `int` (pueden ser otras cosas, pero estos son los mas comúnes)"
   ]
  },
  {
   "cell_type": "code",
   "execution_count": 3,
   "id": "f7c2fb99",
   "metadata": {},
   "outputs": [],
   "source": [
    "diccionario_3 = {\n",
    "    1:\"uno\",\n",
    "    2:\"dos\",\n",
    "    3:\"tres\",\n",
    "    4:\"cuatro\"\n",
    "}"
   ]
  },
  {
   "cell_type": "markdown",
   "id": "27661dbb",
   "metadata": {},
   "source": [
    "Nuestros valores pueden ser cualquier tipo de dato que se conozca hasta el momento."
   ]
  },
  {
   "cell_type": "code",
   "execution_count": 4,
   "id": "8a079bc1",
   "metadata": {},
   "outputs": [],
   "source": [
    "diccionario_4 = {\n",
    "    'int':123,\n",
    "    'float':23.56,\n",
    "    'string':'hola',\n",
    "    'boolean':True,\n",
    "    'lista':[1,2,3,4],\n",
    "    'diccionario':{\n",
    "        1:'uno',\n",
    "        2:'dos'\n",
    "    }\n",
    "}"
   ]
  },
  {
   "cell_type": "markdown",
   "id": "e44f1550",
   "metadata": {},
   "source": [
    "Acceder a un diccionario es tan fácil como escribir el nombre del diccionario, agregar corchetes(`[]`) y pasarle el nombre de la llave (o clave) que quieres acceder. Por obvias razones un diccionario no puede tener mas de una llave con el mismo nombre. Si tenemos otras estructuras de datos dentro de nuestro diccionario podemos acceder a los elementos dentro de ellas despues de haber accedido primero a toda la estructura de datos."
   ]
  },
  {
   "cell_type": "code",
   "execution_count": 6,
   "id": "5952a037",
   "metadata": {},
   "outputs": [
    {
     "name": "stdout",
     "output_type": "stream",
     "text": [
      "23.56\n",
      "True\n",
      "[1, 2, 3, 4]\n"
     ]
    }
   ],
   "source": [
    "print(diccionario_4['float'])\n",
    "print(diccionario_4['boolean'])\n",
    "print(diccionario_4['lista'])"
   ]
  },
  {
   "cell_type": "code",
   "execution_count": 10,
   "id": "0312f389",
   "metadata": {},
   "outputs": [
    {
     "name": "stdout",
     "output_type": "stream",
     "text": [
      "[1, 2, 3, 4]\n",
      "3\n",
      "dos\n"
     ]
    }
   ],
   "source": [
    "# Imprimir la lista y solo un elemento de ella\n",
    "print(diccionario_4['lista'])\n",
    "print(diccionario_4['lista'][2])\n",
    "print(diccionario_4['diccionario'][2])"
   ]
  }
 ],
 "metadata": {
  "kernelspec": {
   "display_name": "Python 3",
   "language": "python",
   "name": "python3"
  },
  "language_info": {
   "codemirror_mode": {
    "name": "ipython",
    "version": 3
   },
   "file_extension": ".py",
   "mimetype": "text/x-python",
   "name": "python",
   "nbconvert_exporter": "python",
   "pygments_lexer": "ipython3",
   "version": "3.12.0"
  }
 },
 "nbformat": 4,
 "nbformat_minor": 5
}
