{
 "cells": [
  {
   "cell_type": "markdown",
   "id": "87a1e6d2",
   "metadata": {},
   "source": [
    "# Esto es un Notebook de practica\n",
    "---\n",
    "### 1. Objetivos\n",
    "    - Repasar rapidamente como funciona un Jupyther Notebook.\n",
    "### 2. Requisitos\n",
    "    - Jupyther Notebook instalado\n",
    "---"
   ]
  },
  {
   "cell_type": "markdown",
   "id": "b42593d1",
   "metadata": {},
   "source": [
    "En JN tenemos `modo comando` y `modo edicion`.\n",
    "\n",
    "- El modo `modo edición` sirve para editar celdas.\n",
    "- El modo `modo comando` sirve para usar comandos en el JN.\n",
    "\n",
    "Esto es una celda `Markdown`"
   ]
  },
  {
   "cell_type": "code",
   "execution_count": null,
   "id": "76267b7a",
   "metadata": {},
   "outputs": [],
   "source": [
    "#Esto es una celda de codigo\n",
    "#Yo soy un comentario..."
   ]
  },
  {
   "cell_type": "markdown",
   "id": "6c47fa79",
   "metadata": {},
   "source": [
    "Escribamos algo de codigo para recordar"
   ]
  },
  {
   "cell_type": "code",
   "execution_count": 2,
   "id": "32f9ce47",
   "metadata": {},
   "outputs": [
    {
     "data": {
      "text/plain": [
       "9"
      ]
     },
     "execution_count": 2,
     "metadata": {},
     "output_type": "execute_result"
    }
   ],
   "source": [
    "var_1 = 4\n",
    "var_2 = 5\n",
    "\n",
    "var_1 + var_2"
   ]
  },
  {
   "cell_type": "code",
   "execution_count": 3,
   "id": "25f69909",
   "metadata": {},
   "outputs": [
    {
     "name": "stdout",
     "output_type": "stream",
     "text": [
      "4 5\n"
     ]
    }
   ],
   "source": [
    "print(var_1,var_2)"
   ]
  },
  {
   "cell_type": "code",
   "execution_count": 4,
   "id": "a4324c33",
   "metadata": {},
   "outputs": [
    {
     "name": "stdout",
     "output_type": "stream",
     "text": [
      "4,5\n"
     ]
    }
   ],
   "source": [
    "print(str(var_1) + ',' + str(var_2))"
   ]
  },
  {
   "cell_type": "code",
   "execution_count": 5,
   "id": "9c7c09e3",
   "metadata": {},
   "outputs": [
    {
     "data": {
      "text/plain": [
       "15"
      ]
     },
     "execution_count": 5,
     "metadata": {},
     "output_type": "execute_result"
    }
   ],
   "source": [
    "var_1 = 10\n",
    "var_1 + var_2"
   ]
  }
 ],
 "metadata": {
  "kernelspec": {
   "display_name": "Python 3",
   "language": "python",
   "name": "python3"
  },
  "language_info": {
   "codemirror_mode": {
    "name": "ipython",
    "version": 3
   },
   "file_extension": ".py",
   "mimetype": "text/x-python",
   "name": "python",
   "nbconvert_exporter": "python",
   "pygments_lexer": "ipython3",
   "version": "3.12.0"
  }
 },
 "nbformat": 4,
 "nbformat_minor": 5
}
