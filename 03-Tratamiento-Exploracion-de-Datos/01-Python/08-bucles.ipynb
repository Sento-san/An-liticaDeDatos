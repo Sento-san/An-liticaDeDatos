{
 "cells": [
  {
   "cell_type": "markdown",
   "id": "ba1174ef",
   "metadata": {},
   "source": [
    "### Bucles o Loops o Ciclos\n",
    "\n",
    "## Bucles con while"
   ]
  },
  {
   "cell_type": "markdown",
   "id": "966bec19",
   "metadata": {},
   "source": [
    "### Bucle Infinito"
   ]
  },
  {
   "cell_type": "code",
   "execution_count": null,
   "id": "d4cf7422",
   "metadata": {},
   "outputs": [],
   "source": [
    "while True:\n",
    "    print('Estoy dentro del ciclo, y no puedo salir')"
   ]
  },
  {
   "cell_type": "code",
   "execution_count": 6,
   "id": "400bf38f",
   "metadata": {},
   "outputs": [
    {
     "name": "stdout",
     "output_type": "stream",
     "text": [
      "El numero mas grande es: 54\n"
     ]
    }
   ],
   "source": [
    "num_big = -999999999\n",
    "\n",
    "# Ingresa el primer valor\n",
    "number = int(input('Introduce un numero o escribe -1 para terminar'))\n",
    "\n",
    "while number != -1:\n",
    "    # ¿Es el numero mas grande que el valor num_grande?\n",
    "    if number > num_big:\n",
    "        num_big = number\n",
    "    number = int(input('Introduce un numero o escribe -1 para terminar'))\n",
    "print(f'El numero mas grande es: {num_big}')"
   ]
  },
  {
   "cell_type": "code",
   "execution_count": 9,
   "id": "bc0343ac",
   "metadata": {},
   "outputs": [
    {
     "name": "stdout",
     "output_type": "stream",
     "text": [
      "Soy el numero 1\n",
      "Soy el numero 2\n",
      "Soy el numero 3\n",
      "Soy el numero 4\n",
      "Soy el numero 5\n",
      "Soy el numero 6\n",
      "Soy el numero 7\n",
      "Soy el numero 8\n",
      "Soy el numero 9\n",
      "Soy el numero 10\n",
      "Fin del programa\n"
     ]
    }
   ],
   "source": [
    "# Imprimir todos los numeros del 1 a n\n",
    "numero = int(input('Introduce un numero'))\n",
    "\n",
    "i = 1\n",
    "while i <= numero:\n",
    "    print(f'Soy el numero {i}')\n",
    "    i = i + 1\n",
    "print('Fin del programa')"
   ]
  },
  {
   "cell_type": "markdown",
   "id": "c4dec0f3",
   "metadata": {},
   "source": [
    "**Realizar un programa que calcule el promeio de calificaiones n**"
   ]
  },
  {
   "cell_type": "code",
   "execution_count": null,
   "id": "7ddb11a3",
   "metadata": {},
   "outputs": [
    {
     "name": "stdout",
     "output_type": "stream",
     "text": [
      "El promedio fue 16.0\n"
     ]
    }
   ],
   "source": [
    "num_calf = float(input('Dame el numeor de calificaciones'))\n",
    "i = 1\n",
    "fin_calf=0\n",
    "while i <= num_calf:\n",
    "    calf = int(input(f'Dime la calificaion {i}'))\n",
    "    fin_calf = fin_calf+calf\n",
    "    i = i + 1\n",
    "prom = fin_calf/num_calf\n",
    "print(f'El promedio fue {prom}')"
   ]
  },
  {
   "cell_type": "code",
   "execution_count": null,
   "id": "0afcfcb3",
   "metadata": {},
   "outputs": [
    {
     "name": "stdout",
     "output_type": "stream",
     "text": [
      "El numero de calificaiones aprobadas son: 0\n",
      "El numero de calificaiones reprobadas son: 0\n"
     ]
    }
   ],
   "source": [
    "# Hacer un programa donde se ingresen calificaiones hasta que el usuario ingrese un -1, \n",
    "# despues imprimir cuantas fueron aprobatorias y cuantas no\n",
    "\n",
    "cal = float(input('Introduce una calificaion'))\n",
    "califApro = 0\n",
    "califRepro = 0\n",
    "\n",
    "while cal != -1:\n",
    "    if cal >= 8.0 and cal <= 10.0:\n",
    "        califApro = califApro + 1\n",
    "    elif cal < 8.0 and cal >= 0:\n",
    "        califRepro += 1\n",
    "    cal = int(input('Introduce una calificaion'))\n",
    "print(f'El numero de calificaiones aprobadas son: {califApro}\\nEl numero de calificaiones reprobadas son: {califRepro}')\n"
   ]
  },
  {
   "cell_type": "markdown",
   "id": "e95f69c3",
   "metadata": {},
   "source": [
    "## Bucle con For"
   ]
  },
  {
   "cell_type": "markdown",
   "id": "1ecfcb99",
   "metadata": {},
   "source": [
    "Otro tipo de bucle disponible en `Python` proviene de la observacion de que a veces es mas importante contar los \"giros o vueltas\" del bucle que verificar las condiciones.\n",
    "\n",
    "```Python\n",
    "for i in range (100):\n",
    "    # do something()\n",
    "    pass\n",
    "```"
   ]
  },
  {
   "cell_type": "code",
   "execution_count": 7,
   "id": "3550bbb9",
   "metadata": {},
   "outputs": [
    {
     "name": "stdout",
     "output_type": "stream",
     "text": [
      "El valor de i es 0\n",
      "El valor de i es 1\n",
      "El valor de i es 2\n",
      "El valor de i es 3\n",
      "El valor de i es 4\n",
      "El valor de i es 5\n",
      "El valor de i es 6\n",
      "El valor de i es 7\n",
      "El valor de i es 8\n",
      "El valor de i es 9\n"
     ]
    }
   ],
   "source": [
    "for i in range(10):\n",
    "    print(f'El valor de i es {i}')"
   ]
  },
  {
   "cell_type": "code",
   "execution_count": null,
   "id": "9ef0a6c5",
   "metadata": {},
   "outputs": [],
   "source": []
  },
  {
   "cell_type": "code",
   "execution_count": 8,
   "id": "2b255c82",
   "metadata": {},
   "outputs": [
    {
     "name": "stdout",
     "output_type": "stream",
     "text": [
      "El valor de i es 1\n",
      "El valor de i es 2\n",
      "El valor de i es 3\n",
      "El valor de i es 4\n",
      "El valor de i es 5\n",
      "El valor de i es 6\n",
      "El valor de i es 7\n",
      "El valor de i es 8\n",
      "El valor de i es 9\n",
      "El valor de i es 10\n"
     ]
    }
   ],
   "source": [
    "for i in range(10):\n",
    "    print(f'El valor de i es {i+1}')"
   ]
  },
  {
   "cell_type": "code",
   "execution_count": 9,
   "id": "0a170673",
   "metadata": {},
   "outputs": [
    {
     "name": "stdout",
     "output_type": "stream",
     "text": [
      "2\n",
      "3\n",
      "4\n",
      "9\n",
      "6\n",
      "7\n",
      "10\n",
      "[2, 3, 5, 6]\n"
     ]
    }
   ],
   "source": [
    "lista = [2,3,4,9,6,7,10,[2,3,5,6]]\n",
    "\n",
    "for li in lista:\n",
    "    print(li)"
   ]
  },
  {
   "cell_type": "markdown",
   "id": "17fc2a4f",
   "metadata": {},
   "source": [
    "Nota:\n",
    "El bucle se ha ejecutado n veces (es el argumento de la funcion range(). El valor de la ultima variable de control es 9 (no 10, ya que comienza desde 0, no desde 1))"
   ]
  },
  {
   "cell_type": "code",
   "execution_count": 10,
   "id": "59a297d1",
   "metadata": {},
   "outputs": [
    {
     "name": "stdout",
     "output_type": "stream",
     "text": [
      "El valor de i es 2\n",
      "El valor de i es 3\n",
      "El valor de i es 4\n",
      "El valor de i es 5\n",
      "El valor de i es 6\n",
      "El valor de i es 7\n"
     ]
    }
   ],
   "source": [
    "for i in range(2,8):\n",
    "    print(f'El valor de i es {i}')"
   ]
  },
  {
   "cell_type": "code",
   "execution_count": 11,
   "id": "c025fafa",
   "metadata": {},
   "outputs": [
    {
     "name": "stdout",
     "output_type": "stream",
     "text": [
      "El valor de i es 2\n",
      "El valor de i es 3\n",
      "El valor de i es 4\n",
      "El valor de i es 5\n",
      "El valor de i es 6\n",
      "El valor de i es 7\n"
     ]
    }
   ],
   "source": [
    "i = 2\n",
    "while i < 8:\n",
    "    print(f'El valor de i es {i}')\n",
    "    i += 1"
   ]
  },
  {
   "cell_type": "markdown",
   "id": "e31b5f2c",
   "metadata": {},
   "source": [
    "La funcion range tambien puede aceptar tres argumentos"
   ]
  },
  {
   "cell_type": "code",
   "execution_count": 12,
   "id": "4c5b9020",
   "metadata": {},
   "outputs": [
    {
     "name": "stdout",
     "output_type": "stream",
     "text": [
      "El valor de i es 2\n",
      "El valor de i es 5\n"
     ]
    }
   ],
   "source": [
    "for i in range(2,8,3):\n",
    "    print(f'El valor de i es {i}')"
   ]
  },
  {
   "cell_type": "code",
   "execution_count": 15,
   "id": "11805d30",
   "metadata": {},
   "outputs": [
    {
     "name": "stdout",
     "output_type": "stream",
     "text": [
      "El valor de i es 2\n",
      "El valor de i es 5\n"
     ]
    }
   ],
   "source": [
    "i = 2\n",
    "while i<8:\n",
    "    print(f'El valor de i es {i}')\n",
    "    i += 3"
   ]
  },
  {
   "cell_type": "markdown",
   "id": "7439aa63",
   "metadata": {},
   "source": [
    "## Las sentencias Break y Continue\n",
    "\n",
    "`break` - Sale de bucle inmediatamente, e incondicionalmente termina la operacion del bucle, el programa empieza a ejecutar la instruccion mas cercana despues del cuerpo del bucle.\n",
    "\n",
    "`contune` - Se comporta como si el programa hubiera llegado repentinamente al final del cuerpo: el siguiente turno se inicia y la expresion de condicion se prueba de inmediato."
   ]
  },
  {
   "cell_type": "code",
   "execution_count": 21,
   "id": "6ee0cde0",
   "metadata": {},
   "outputs": [
    {
     "name": "stdout",
     "output_type": "stream",
     "text": [
      "La instruccion break\n",
      "Dentro del bucle\n",
      "Fuera del bucle\n"
     ]
    }
   ],
   "source": [
    "# break - ejemplo\n",
    "print('La instruccion break')\n",
    "\n",
    "for i in range(1, 6):\n",
    "    if i == 3:\n",
    "        print('Dentro del bucle')\n",
    "        break\n",
    "print('Fuera del bucle')"
   ]
  },
  {
   "cell_type": "code",
   "execution_count": 22,
   "id": "e83df03b",
   "metadata": {},
   "outputs": [
    {
     "name": "stdout",
     "output_type": "stream",
     "text": [
      "\n",
      "La instruccion continua\n",
      "Dentro del bucle\n",
      "Dentro del bucle\n",
      "Dentro del bucle\n",
      "Dentro del bucle\n",
      "Fuera del bucle\n"
     ]
    }
   ],
   "source": [
    "# continue\n",
    "print('\\nLa instruccion continua')\n",
    "\n",
    "for i in range(1,6):\n",
    "    if i == 3:\n",
    "        continue\n",
    "    print(f'Dentro del bucle')\n",
    "print(f'Fuera del bucle')"
   ]
  }
 ],
 "metadata": {
  "kernelspec": {
   "display_name": "Python 3",
   "language": "python",
   "name": "python3"
  },
  "language_info": {
   "codemirror_mode": {
    "name": "ipython",
    "version": 3
   },
   "file_extension": ".py",
   "mimetype": "text/x-python",
   "name": "python",
   "nbconvert_exporter": "python",
   "pygments_lexer": "ipython3",
   "version": "3.12.0"
  }
 },
 "nbformat": 4,
 "nbformat_minor": 5
}
