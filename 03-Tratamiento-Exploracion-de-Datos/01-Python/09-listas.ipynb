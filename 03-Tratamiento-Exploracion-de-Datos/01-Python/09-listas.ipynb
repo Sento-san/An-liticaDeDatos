{
 "cells": [
  {
   "cell_type": "markdown",
   "id": "9e885b13",
   "metadata": {},
   "source": [
    "## Listas\n",
    "### Objetivos\n",
    "\n",
    " - Entender la sintaxis de las listas de Python\n",
    " - Aprender a crear listas y accederlas\n",
    "\n",
    " ---\n",
    "\n",
    "### Desarrollo\n"
   ]
  },
  {
   "cell_type": "markdown",
   "id": "9e034204",
   "metadata": {},
   "source": [
    "**Creando listas y accediendo a ellas**\n",
    "Las listas son secuencias ordenadas. El orden de los datos en la lista es el mismo orden que tienen los datos a la hora de ser asignados. Una lista se ve asi."
   ]
  },
  {
   "cell_type": "code",
   "execution_count": 1,
   "id": "2b3541c3",
   "metadata": {},
   "outputs": [
    {
     "data": {
      "text/plain": [
       "[1, 6, 8, 3, 4]"
      ]
     },
     "execution_count": 1,
     "metadata": {},
     "output_type": "execute_result"
    }
   ],
   "source": [
    "lista_1 = [1,6,8,3,4]\n",
    "lista_1"
   ]
  },
  {
   "cell_type": "code",
   "execution_count": null,
   "id": "d5f4d97a",
   "metadata": {},
   "outputs": [
    {
     "data": {
      "text/plain": [
       "list"
      ]
     },
     "execution_count": 3,
     "metadata": {},
     "output_type": "execute_result"
    }
   ],
   "source": [
    "type(lista_1)"
   ]
  },
  {
   "cell_type": "markdown",
   "id": "37ad4862",
   "metadata": {},
   "source": [
    "Cada elemento de la lista tiene un indice que se usa para acceder a dicho elemento. Dado que las listas son rdenadas los indices se van asignando secuelcialmente desde el primer elemento hasta el ultimo. El primer indice es siempre `0` y por lo tanto el ultimo indice es siempre `n-1`, donde `n` es e numero final de elementos en la lista."
   ]
  },
  {
   "cell_type": "code",
   "execution_count": 5,
   "id": "ca22b8cb",
   "metadata": {},
   "outputs": [
    {
     "name": "stdout",
     "output_type": "stream",
     "text": [
      "Primer elemento de la lista: 1\n",
      "Ultimo elemento de la lista: 4\n"
     ]
    }
   ],
   "source": [
    "# Imprimir el primer elemento de la lista\n",
    "print(f'Primer elemento de la lista: {lista_1[0]}')\n",
    "print(f'Ultimo elemento de la lista: {lista_1[4]}')"
   ]
  },
  {
   "cell_type": "code",
   "execution_count": 6,
   "id": "ee49ed90",
   "metadata": {},
   "outputs": [
    {
     "ename": "IndexError",
     "evalue": "list index out of range",
     "output_type": "error",
     "traceback": [
      "\u001b[31m---------------------------------------------------------------------------\u001b[39m",
      "\u001b[31mIndexError\u001b[39m                                Traceback (most recent call last)",
      "\u001b[36mCell\u001b[39m\u001b[36m \u001b[39m\u001b[32mIn[6]\u001b[39m\u001b[32m, line 1\u001b[39m\n\u001b[32m----> \u001b[39m\u001b[32m1\u001b[39m \u001b[38;5;28mprint\u001b[39m(\u001b[43mlista_1\u001b[49m\u001b[43m[\u001b[49m\u001b[32;43m5\u001b[39;49m\u001b[43m]\u001b[49m)\n",
      "\u001b[31mIndexError\u001b[39m: list index out of range"
     ]
    }
   ],
   "source": [
    "print(lista_1[5])"
   ]
  },
  {
   "cell_type": "code",
   "execution_count": 1,
   "id": "ba4e2cd4",
   "metadata": {},
   "outputs": [
    {
     "name": "stdout",
     "output_type": "stream",
     "text": [
      "conenido de la lista [10, 5, 7, 2, 1]\n",
      "<class 'list'>\n"
     ]
    }
   ],
   "source": [
    "numbers = [10,5,7,2,1]\n",
    "print(f'conenido de la lista {numbers}')\n",
    "print(type(numbers))"
   ]
  },
  {
   "cell_type": "code",
   "execution_count": 2,
   "id": "f653289f",
   "metadata": {},
   "outputs": [
    {
     "data": {
      "text/plain": [
       "5"
      ]
     },
     "execution_count": 2,
     "metadata": {},
     "output_type": "execute_result"
    }
   ],
   "source": [
    "# Permite accesar al valor que se encuentra en la posicion\n",
    "numbers[1]"
   ]
  },
  {
   "cell_type": "markdown",
   "id": "6e61742e",
   "metadata": {},
   "source": [
    "***Vamos a asignar u nuevo valor '111' al primer elemento en la lista. Lo hacemos de la siguiente manera:***\n"
   ]
  },
  {
   "cell_type": "code",
   "execution_count": 4,
   "id": "3f49db04",
   "metadata": {},
   "outputs": [
    {
     "name": "stdout",
     "output_type": "stream",
     "text": [
      "[111, 5, 7, 2, 1]\n"
     ]
    }
   ],
   "source": [
    "numbers[0] = 111\n",
    "print(numbers)"
   ]
  },
  {
   "cell_type": "code",
   "execution_count": 5,
   "id": "ab055133",
   "metadata": {},
   "outputs": [
    {
     "name": "stdout",
     "output_type": "stream",
     "text": [
      "[111, 1, 7, 2, 1]\n"
     ]
    }
   ],
   "source": [
    "# Copiar el valor del quinto elemento al segundo\n",
    "\n",
    "numbers[1] = numbers[4]\n",
    "print(numbers)"
   ]
  },
  {
   "cell_type": "markdown",
   "id": "e11069cc",
   "metadata": {},
   "source": [
    "### Eliminendo Elememtos de la lista"
   ]
  },
  {
   "cell_type": "markdown",
   "id": "b841b310",
   "metadata": {},
   "source": [
    "Cualquier elemento de la lista puede ser eliminado en cualquier momento - esto se hace con una instrucción llamada `del` (eliminar). Nota: es una instrucción, no una función.\n",
    "\n",
    "Tienes que apuntar al elemento que quieres eliminar - desaparecerá de la lista y la longitud de la lista se reducirá en uno."
   ]
  },
  {
   "cell_type": "code",
   "execution_count": 8,
   "id": "65e98fcc",
   "metadata": {},
   "outputs": [
    {
     "name": "stdout",
     "output_type": "stream",
     "text": [
      "La lista actual: [111, 7, 2, 1]\n"
     ]
    }
   ],
   "source": [
    "print(f'La lista actual: {numbers}')\n",
    "del numbers[1]"
   ]
  },
  {
   "cell_type": "code",
   "execution_count": 10,
   "id": "05548b7d",
   "metadata": {},
   "outputs": [
    {
     "name": "stdout",
     "output_type": "stream",
     "text": [
      "La lista actual es: [111, 2, 1]\n",
      "El tamaño de la lista es: 3\n"
     ]
    }
   ],
   "source": [
    "print(f'La lista actual es: {numbers}')\n",
    "print(f'El tamaño de la lista es: {len(numbers)}')"
   ]
  },
  {
   "cell_type": "code",
   "execution_count": 11,
   "id": "a8874487",
   "metadata": {},
   "outputs": [],
   "source": [
    "lista_prueba = [1,2,4,6,2,11]\n",
    "# Remove -> Elimina o remueve la primera coincidencia de un valor que se le indica\n",
    "lista_prueba.remove(2)\n"
   ]
  },
  {
   "cell_type": "code",
   "execution_count": 12,
   "id": "42733c1a",
   "metadata": {},
   "outputs": [
    {
     "name": "stdout",
     "output_type": "stream",
     "text": [
      "La lista actual es: [1, 4, 6, 2, 11]\n"
     ]
    }
   ],
   "source": [
    "print(f'La lista actual es: {lista_prueba}')"
   ]
  },
  {
   "cell_type": "code",
   "execution_count": 13,
   "id": "b11f85b0",
   "metadata": {},
   "outputs": [],
   "source": [
    "lista_prueba = [1,2,4,6,2,11]"
   ]
  },
  {
   "cell_type": "code",
   "execution_count": 15,
   "id": "5f880e29",
   "metadata": {},
   "outputs": [],
   "source": [
    "def eliminar(valor):\n",
    "    for indice, elemento in enumerate(lista_prueba):\n",
    "        if elemento == valor:\n",
    "            del lista_prueba[indice]"
   ]
  },
  {
   "cell_type": "code",
   "execution_count": 16,
   "id": "ebb0203a",
   "metadata": {},
   "outputs": [
    {
     "name": "stdout",
     "output_type": "stream",
     "text": [
      "Lista actual: [1, 2, 4, 6, 2, 11]\n",
      "Lista despues de eliminar [1, 4, 6, 11]\n"
     ]
    }
   ],
   "source": [
    "print(f'Lista actual: {lista_prueba}')\n",
    "eliminar(2)\n",
    "print(f'Lista despues de eliminar {lista_prueba}')"
   ]
  },
  {
   "cell_type": "markdown",
   "id": "5d9ffccd",
   "metadata": {},
   "source": [
    "### Los indices negativos son legales\n",
    "`Un elemento con indice igual a -1 es el ultimo en la lista`"
   ]
  },
  {
   "cell_type": "code",
   "execution_count": 19,
   "id": "614a6bd0",
   "metadata": {},
   "outputs": [
    {
     "name": "stdout",
     "output_type": "stream",
     "text": [
      "El ultimo valor de la lista es 7\n"
     ]
    }
   ],
   "source": [
    "numbers_2 = [111,7,2,1]\n",
    "print(f'El ultimo valor de la lista es {numbers_2[-3]}')"
   ]
  },
  {
   "cell_type": "markdown",
   "id": "af0b90cd",
   "metadata": {},
   "source": [
    "## Ejercicio de lsitas"
   ]
  },
  {
   "cell_type": "code",
   "execution_count": null,
   "id": "98050e46",
   "metadata": {},
   "outputs": [],
   "source": [
    "hat_list = [1, 2, 3, 4, 5]  # Esta es una lista existente de números ocultos en el sombrero.\n",
    "\n",
    "# Paso 1: escribe una línea de código que solicite al usuario\n",
    "# reemplazar el número de en medio con un número entero ingresado por el usuario.\n",
    "\n",
    "# Paso 2: escribe aquí una línea de código que elimine el último elemento de la lista.\n",
    "\n",
    "# Paso 3: escribe aquí una línea de código que imprima la longitud de la lista existente.\n",
    "\n",
    "print(hat_list)"
   ]
  },
  {
   "cell_type": "markdown",
   "id": "a47119df",
   "metadata": {},
   "source": [
    "## Agregando elementos a una lista: append() e insert()\n",
    "Un nuevo elemento puede sar añadido al final de la lista existente:\n",
    "`list.appedn(valor)`\n",
    "\n",
    "El metodo `insert()` es un metodo inteligente - puede agregar un nuevo elemento es cuaquier lugar de la lista, no solo al final\n",
    "`list.insert(location, valor)`\n",
    "Toma dos argumentos:\n",
    "\n",
    "- el primero muestra la ubicación requerida del elemento a insertar; nota: todos los elementos existentes que ocupan ubicaciones a la derecha del nuevo elemento (incluido el que está en la posición indicada) se desplazan a la derecha, para hacer espacio para el nuevo elemento;\n",
    "-  el segundo es el elemento a insertar."
   ]
  },
  {
   "cell_type": "code",
   "execution_count": 21,
   "id": "bc603b68",
   "metadata": {},
   "outputs": [
    {
     "name": "stdout",
     "output_type": "stream",
     "text": [
      "La lista origininal es: [123, 8, 4, 1]\n",
      "El tamaño de la lista es: 4\n",
      "La lista aumentada es: [123, 8, 4, 1, 16]\n",
      "El tamaño de la lista aumentada es: 5\n"
     ]
    }
   ],
   "source": [
    "numbers_3 = [123,8,4,1]\n",
    "print(f'La lista origininal es: {numbers_3}')\n",
    "print(f'El tamaño de la lista es: {len(numbers_3)}')\n",
    "\n",
    "# Agregar un valor al final de la lista con el metodo append\n",
    "numbers_3.append(16)\n",
    "print(f'La lista aumentada es: {numbers_3}')\n",
    "print(f'El tamaño de la lista aumentada es: {len(numbers_3)}')"
   ]
  },
  {
   "cell_type": "code",
   "execution_count": 23,
   "id": "c23a26e2",
   "metadata": {},
   "outputs": [
    {
     "name": "stdout",
     "output_type": "stream",
     "text": [
      "La lista actual es: [123, 8, 4, 1, 16]\n",
      "El tamaño de la lista es: 5\n",
      "La lista aumentada es: [222, 123, 8, 4, 1, 16]\n",
      "El tamaño de la lista aumentada es: 6\n"
     ]
    }
   ],
   "source": [
    "# Metodo insert\n",
    "print(f'La lista actual es: {numbers_3}')\n",
    "print(f'El tamaño de la lista es: {len(numbers_3)}')\n",
    "numbers_3.insert(0,222)\n",
    "\n",
    "print(f'La lista aumentada es: {numbers_3}')\n",
    "print(f'El tamaño de la lista aumentada es: {len(numbers_3)}')\n"
   ]
  },
  {
   "cell_type": "code",
   "execution_count": 34,
   "id": "d2dabf70",
   "metadata": {},
   "outputs": [],
   "source": [
    "def llenar_lista_append(valor):\n",
    "    my_list = [] #aqui se crea una lista vacia\n",
    "    for i in range(valor):\n",
    "        my_list.append(i+1)\n",
    "\n",
    "    return my_list"
   ]
  },
  {
   "cell_type": "code",
   "execution_count": 32,
   "id": "5c3fa7e7",
   "metadata": {},
   "outputs": [],
   "source": [
    "def imprimir_lista(lista):\n",
    "        print(f'La lista es: {lista}')"
   ]
  },
  {
   "cell_type": "code",
   "execution_count": 35,
   "id": "89fc0722",
   "metadata": {},
   "outputs": [
    {
     "name": "stdout",
     "output_type": "stream",
     "text": [
      "La lista es: [1, 2, 3, 4, 5, 6, 7, 8, 9, 10]\n"
     ]
    }
   ],
   "source": [
    "lista = llenar_lista_append(10)\n",
    "imprimir_lista(lista)"
   ]
  },
  {
   "cell_type": "code",
   "execution_count": 36,
   "id": "e672b7f8",
   "metadata": {},
   "outputs": [
    {
     "name": "stdout",
     "output_type": "stream",
     "text": [
      "[5, 4, 3, 2, 1]\n"
     ]
    }
   ],
   "source": [
    "my_list = []\n",
    "for i in range(5):\n",
    "    my_list.insert(0,i+1)\n",
    "print(my_list)"
   ]
  },
  {
   "cell_type": "code",
   "execution_count": 37,
   "id": "95819c3d",
   "metadata": {},
   "outputs": [
    {
     "name": "stdout",
     "output_type": "stream",
     "text": [
      "10\n",
      "1\n",
      "8\n",
      "3\n",
      "5\n"
     ]
    }
   ],
   "source": [
    "mi_lista = [10,1,8,3,5]\n",
    "\n",
    "for i in mi_lista:\n",
    "    print(i)"
   ]
  },
  {
   "cell_type": "code",
   "execution_count": 38,
   "id": "54e2f1fc",
   "metadata": {},
   "outputs": [
    {
     "name": "stdout",
     "output_type": "stream",
     "text": [
      "La suma de los valores de la lista es 27\n"
     ]
    }
   ],
   "source": [
    "# Sumar los valores de la lista\n",
    "total = 0\n",
    "for i in mi_lista:\n",
    "    total += i\n",
    "print(f'La suma de los valores de la lista es {total}')"
   ]
  },
  {
   "cell_type": "markdown",
   "id": "7ec63813",
   "metadata": {},
   "source": [
    "#### Realizar un programa que pormita almacenar varias calificaciones en una lista para despues poder sacar el promerdo de ellas, utilizando una funcion"
   ]
  },
  {
   "cell_type": "code",
   "execution_count": null,
   "id": "ba9f5bc2",
   "metadata": {},
   "outputs": [],
   "source": [
    "def guardar_calf(numero):\n",
    "    lista_calif = []\n",
    "    i = 1\n",
    "    while i <= numero:\n",
    "        calif = float(input(f'Solicita la calificacion {i}'))\n",
    "        lista_calif.append(calif)\n",
    "        i += 1\n",
    "    return lista_calif"
   ]
  },
  {
   "cell_type": "code",
   "execution_count": null,
   "id": "d7166e19",
   "metadata": {},
   "outputs": [],
   "source": [
    "def guardar_calf(numero):\n",
    "    lista_calif = []\n",
    "    i = 1\n",
    "    while i <= numero:\n",
    "        calif = float(input(f'Solicita la calificacion {i}'))\n",
    "        lista_calif.append(calif)\n",
    "        i += 1\n",
    "    return lista_calif"
   ]
  },
  {
   "cell_type": "code",
   "execution_count": 3,
   "id": "67411a2d",
   "metadata": {},
   "outputs": [
    {
     "name": "stdout",
     "output_type": "stream",
     "text": [
      "[8.0, 5.6, 9.0, 9.5, 10.0]\n"
     ]
    }
   ],
   "source": [
    "lista = guardar_calf(5)\n",
    "print(lista)"
   ]
  },
  {
   "cell_type": "markdown",
   "id": "3e846b0c",
   "metadata": {},
   "source": [
    "## Listas en accion\n",
    "Imagina que necesitas reorganizar los elementos de una lista, es decir, revertir el orden de los elementos: el primero y el quinto, asi como el segundo y el cuarto eelemento seran intercambiados, el tercero permanecera intecto.\n",
    "\n",
    "Pregunta: ¿Como se pueden intercambiar los valores de 2 variables?\n"
   ]
  },
  {
   "cell_type": "code",
   "execution_count": null,
   "id": "0244cf5a",
   "metadata": {},
   "outputs": [],
   "source": [
    "variable_1 = 1\n",
    "variable_2 = 2\n",
    "\n",
    "variable_2 = variable_1\n",
    "variable_1 = variable_2"
   ]
  },
  {
   "cell_type": "code",
   "execution_count": null,
   "id": "9b5995d6",
   "metadata": {},
   "outputs": [],
   "source": [
    "variable_1 = 1\n",
    "variable_2 = 2\n",
    "\n",
    "aux = variable_1\n",
    "variable_1 = variable_2\n",
    "variable_2 = aux"
   ]
  },
  {
   "cell_type": "code",
   "execution_count": 1,
   "id": "757be9d6",
   "metadata": {},
   "outputs": [
    {
     "name": "stdout",
     "output_type": "stream",
     "text": [
      "El valor de la variable_1 es 2\n",
      "El valor de la variable_2 es 1\n"
     ]
    }
   ],
   "source": [
    "variable_1 = 1\n",
    "variable_2 = 2\n",
    "\n",
    "variable_1, variable_2 = variable_2, variable_1\n",
    "print(f'El valor de la variable_1 es {variable_1}\\nEl valor de la variable_2 es {variable_2}')"
   ]
  },
  {
   "cell_type": "markdown",
   "id": "cc931d45",
   "metadata": {},
   "source": [
    "Teniendo una lista llamada mi_lista con valores, 10,1,8,3,5 intercambiar el 10 por el 5 y viceversa"
   ]
  },
  {
   "cell_type": "code",
   "execution_count": 7,
   "id": "c415777b",
   "metadata": {},
   "outputs": [
    {
     "name": "stdout",
     "output_type": "stream",
     "text": [
      "[5, 3, 8, 1, 10]\n"
     ]
    }
   ],
   "source": [
    "mi_lista = [10,1,8,3,5]\n",
    "\n",
    "mi_lista[0], mi_lista[4] = mi_lista[4],mi_lista[0]\n",
    "mi_lista[1], mi_lista[3] = mi_lista[3], mi_lista[1]\n",
    "print(mi_lista)"
   ]
  }
 ],
 "metadata": {
  "kernelspec": {
   "display_name": "Python 3",
   "language": "python",
   "name": "python3"
  },
  "language_info": {
   "codemirror_mode": {
    "name": "ipython",
    "version": 3
   },
   "file_extension": ".py",
   "mimetype": "text/x-python",
   "name": "python",
   "nbconvert_exporter": "python",
   "pygments_lexer": "ipython3",
   "version": "3.12.0"
  }
 },
 "nbformat": 4,
 "nbformat_minor": 5
}
