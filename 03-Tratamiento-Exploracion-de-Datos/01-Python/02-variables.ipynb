{
 "cells": [
  {
   "cell_type": "markdown",
   "id": "3eabcee6",
   "metadata": {},
   "source": [
    "## Ejemplo de 2 variables\n",
    "\n",
    "### 1. Objetivos\n",
    "- Entender cual es la sintaxis de la asignacion de variables en Python.\n",
    "- Aprender la comprencion de nombramiento de variables."
   ]
  },
  {
   "cell_type": "markdown",
   "id": "a1459a53",
   "metadata": {},
   "source": [
    "### 2. Desarrollo\n",
    "\n",
    "Los siguientes nombres son los nombres posibles de variables en Python.\n",
    "- var_1\n",
    "- variable_2\n",
    "- variable_dos\n",
    "- variable_nueva_tres\n",
    "- esta_es_una_variable_nueva"
   ]
  },
  {
   "cell_type": "markdown",
   "id": "d115f37b",
   "metadata": {},
   "source": [
    "Los siguientes son nombres invalidos para una variable en Python\n",
    "- 1_2\n",
    "- 1_variable\n",
    "- variableDos\n",
    "- EstaEsUnaVariable\n",
    "- Soy una variable"
   ]
  },
  {
   "cell_type": "markdown",
   "id": "f7491bfd",
   "metadata": {},
   "source": [
    "### Asignemos algunas variables"
   ]
  },
  {
   "cell_type": "code",
   "execution_count": 1,
   "id": "6b18c503",
   "metadata": {},
   "outputs": [],
   "source": [
    "var_1 = 3\n",
    "var_2 = 6\n",
    "variable_3 = 10\n",
    "variable_numero_4 = 20"
   ]
  },
  {
   "cell_type": "markdown",
   "id": "5486d366",
   "metadata": {},
   "source": [
    "Podemos acceder a su contenido solo escribiendo el nombre de la variable en una celda y correrla"
   ]
  },
  {
   "cell_type": "code",
   "execution_count": 2,
   "id": "0c447107",
   "metadata": {},
   "outputs": [
    {
     "data": {
      "text/plain": [
       "3"
      ]
     },
     "execution_count": 2,
     "metadata": {},
     "output_type": "execute_result"
    }
   ],
   "source": [
    "var_1"
   ]
  },
  {
   "cell_type": "markdown",
   "id": "92858dc7",
   "metadata": {},
   "source": [
    "Si intento llamar una variable que no se ha asignado JN va a lanzar un Error"
   ]
  },
  {
   "cell_type": "code",
   "execution_count": 3,
   "id": "458515d4",
   "metadata": {},
   "outputs": [
    {
     "ename": "NameError",
     "evalue": "name 'var_5' is not defined",
     "output_type": "error",
     "traceback": [
      "\u001b[31m---------------------------------------------------------------------------\u001b[39m",
      "\u001b[31mNameError\u001b[39m                                 Traceback (most recent call last)",
      "\u001b[36mCell\u001b[39m\u001b[36m \u001b[39m\u001b[32mIn[3]\u001b[39m\u001b[32m, line 1\u001b[39m\n\u001b[32m----> \u001b[39m\u001b[32m1\u001b[39m \u001b[43mvar_5\u001b[49m\n",
      "\u001b[31mNameError\u001b[39m: name 'var_5' is not defined"
     ]
    }
   ],
   "source": [
    "var_5"
   ]
  },
  {
   "cell_type": "markdown",
   "id": "5580d4fa",
   "metadata": {},
   "source": [
    "De igual menera si se escribe una asignación pero no se runea la celda, esa variable no estara disponible para el Notebook mas adelante."
   ]
  },
  {
   "cell_type": "code",
   "execution_count": 4,
   "id": "85d0c4c1",
   "metadata": {},
   "outputs": [],
   "source": [
    "var_2 = 66"
   ]
  },
  {
   "cell_type": "code",
   "execution_count": 5,
   "id": "91d42f3a",
   "metadata": {},
   "outputs": [
    {
     "data": {
      "text/plain": [
       "66"
      ]
     },
     "execution_count": 5,
     "metadata": {},
     "output_type": "execute_result"
    }
   ],
   "source": [
    "var_2"
   ]
  },
  {
   "cell_type": "markdown",
   "id": "b7e2bca2",
   "metadata": {},
   "source": [
    "# Reto 1: Variable\n",
    "## 1. Objetivos\n",
    "- Practicar convercion de nombramiento y asignacion de variables\n",
    "\n",
    "## 2. Desarrollo \n",
    "Realizar la sigiente practica"
   ]
  },
  {
   "cell_type": "code",
   "execution_count": 6,
   "id": "b5914d87",
   "metadata": {},
   "outputs": [],
   "source": [
    "# Asigna el numero 12345 a una variabre llamada variable locochona\n",
    "variable_locochona = 12345\n",
    "\n",
    "# Asigna el numero 14.567 a la variable var_decimal\n",
    "var_decimal = 14.567\n",
    "\n",
    "# Asigna un numero cualquiera a una variable que tenga 5 palabras en su nombre\n",
    "oh_shit_its_a_rat = 666\n",
    "\n",
    "# Asigna cualquier numero a una variable que incluya palabras y numeros en su nombre\n",
    "per_2_one = 749"
   ]
  }
 ],
 "metadata": {
  "kernelspec": {
   "display_name": "Python 3",
   "language": "python",
   "name": "python3"
  },
  "language_info": {
   "codemirror_mode": {
    "name": "ipython",
    "version": 3
   },
   "file_extension": ".py",
   "mimetype": "text/x-python",
   "name": "python",
   "nbconvert_exporter": "python",
   "pygments_lexer": "ipython3",
   "version": "3.12.0"
  }
 },
 "nbformat": 4,
 "nbformat_minor": 5
}
