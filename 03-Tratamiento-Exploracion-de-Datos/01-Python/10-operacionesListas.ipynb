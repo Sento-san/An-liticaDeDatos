{
 "cells": [
  {
   "cell_type": "markdown",
   "id": "5fb685da",
   "metadata": {},
   "source": [
    "# Operaciones con listas"
   ]
  },
  {
   "cell_type": "markdown",
   "id": "0a0dbbea",
   "metadata": {},
   "source": [
    "## Copiar una lista a otra"
   ]
  },
  {
   "cell_type": "code",
   "execution_count": null,
   "id": "81343295",
   "metadata": {},
   "outputs": [
    {
     "name": "stdout",
     "output_type": "stream",
     "text": [
      "Lista 1: [1]\n",
      "Lista 2: [1]\n"
     ]
    }
   ],
   "source": [
    "# Forma incorrecta de copiar una lista\n",
    "lista_1 = [1]\n",
    "lista_2 = lista_1\n",
    "print(f'Lista 1: {lista_1}\\nLista 2: {lista_2}')"
   ]
  },
  {
   "cell_type": "code",
   "execution_count": 5,
   "id": "7ef2da1f",
   "metadata": {},
   "outputs": [],
   "source": [
    "lista_2.append(10)"
   ]
  },
  {
   "cell_type": "code",
   "execution_count": 6,
   "id": "1144e660",
   "metadata": {},
   "outputs": [
    {
     "name": "stdout",
     "output_type": "stream",
     "text": [
      "[1, 10]\n",
      "[1, 10]\n"
     ]
    }
   ],
   "source": [
    "print(lista_2)\n",
    "print(lista_1)"
   ]
  },
  {
   "cell_type": "markdown",
   "id": "03b727e6",
   "metadata": {},
   "source": [
    "## `slicing` o `rebanadas`"
   ]
  },
  {
   "cell_type": "code",
   "execution_count": 8,
   "id": "28cbed1f",
   "metadata": {},
   "outputs": [
    {
     "data": {
      "text/plain": [
       "[3, 4, 5, 6, 7, 8]"
      ]
     },
     "execution_count": 8,
     "metadata": {},
     "output_type": "execute_result"
    }
   ],
   "source": [
    "list_1 = [3,4,5,6,7,8]\n",
    "list_1[:]"
   ]
  },
  {
   "cell_type": "code",
   "execution_count": 9,
   "id": "337b6e9f",
   "metadata": {},
   "outputs": [
    {
     "data": {
      "text/plain": [
       "[3, 4, 5, 6, 7, 8, 11]"
      ]
     },
     "execution_count": 9,
     "metadata": {},
     "output_type": "execute_result"
    }
   ],
   "source": [
    "# Forma correcta\n",
    "\n",
    "list_2 = list_1[:]\n",
    "list_2.append(11)\n",
    "list_2"
   ]
  },
  {
   "cell_type": "code",
   "execution_count": 10,
   "id": "8187d601",
   "metadata": {},
   "outputs": [
    {
     "data": {
      "text/plain": [
       "[3, 4, 5, 6, 7, 8]"
      ]
     },
     "execution_count": 10,
     "metadata": {},
     "output_type": "execute_result"
    }
   ],
   "source": [
    "list_1"
   ]
  },
  {
   "cell_type": "code",
   "execution_count": 14,
   "id": "51357c96",
   "metadata": {},
   "outputs": [
    {
     "name": "stdout",
     "output_type": "stream",
     "text": [
      "[4, 6, 7, 9, 12]\n"
     ]
    }
   ],
   "source": [
    "x = [4,6,7,9,12]\n",
    "y = []\n",
    "y = x.copy()\n",
    "\n",
    "print(y)"
   ]
  },
  {
   "cell_type": "markdown",
   "id": "e4de1fcb",
   "metadata": {},
   "source": [
    "### Slicing o Rebanadas - Indices Negativos\n",
    "\n",
    "Observa el fragmento de codigo a continuacion:\n",
    "\n",
    "`my_list[start:end]`\n",
    "\n",
    "para conformar:\n",
    "\n",
    "1. **start** es el indice del primer elemento incluido en la rebanada.\n",
    "2. **end** es el indice del primer elemento no incluido en la rebanada.  "
   ]
  },
  {
   "cell_type": "code",
   "execution_count": 16,
   "id": "5ddd7f75",
   "metadata": {},
   "outputs": [],
   "source": [
    "lista = [10,8,6,4,2]\n",
    "lista2 = lista[0:3]"
   ]
  },
  {
   "cell_type": "code",
   "execution_count": 17,
   "id": "9bf50785",
   "metadata": {},
   "outputs": [
    {
     "name": "stdout",
     "output_type": "stream",
     "text": [
      "La lista original es [10, 8, 6, 4, 2]\n",
      "La nueva lista es [10, 8, 6]\n"
     ]
    }
   ],
   "source": [
    "print(f'La lista original es {lista}\\nLa nueva lista es {lista2}')"
   ]
  },
  {
   "cell_type": "code",
   "execution_count": null,
   "id": "58f8e4f4",
   "metadata": {},
   "outputs": [],
   "source": [
    "lista[2:-1]"
   ]
  },
  {
   "cell_type": "code",
   "execution_count": 21,
   "id": "7cc6ac49",
   "metadata": {},
   "outputs": [
    {
     "data": {
      "text/plain": [
       "[8, 6, 4, 2]"
      ]
     },
     "execution_count": 21,
     "metadata": {},
     "output_type": "execute_result"
    }
   ],
   "source": [
    "lista[1:]"
   ]
  },
  {
   "cell_type": "code",
   "execution_count": 22,
   "id": "6f1f4911",
   "metadata": {},
   "outputs": [
    {
     "data": {
      "text/plain": [
       "[]"
      ]
     },
     "execution_count": 22,
     "metadata": {},
     "output_type": "execute_result"
    }
   ],
   "source": [
    "lista[4:-1]"
   ]
  },
  {
   "cell_type": "code",
   "execution_count": null,
   "id": "9aeb6488",
   "metadata": {},
   "outputs": [],
   "source": [
    "# Dada la lista [10,8,6,4,2] eliminar los numeros 8 y 6 "
   ]
  }
 ],
 "metadata": {
  "kernelspec": {
   "display_name": "Python 3",
   "language": "python",
   "name": "python3"
  },
  "language_info": {
   "codemirror_mode": {
    "name": "ipython",
    "version": 3
   },
   "file_extension": ".py",
   "mimetype": "text/x-python",
   "name": "python",
   "nbconvert_exporter": "python",
   "pygments_lexer": "ipython3",
   "version": "3.12.0"
  }
 },
 "nbformat": 4,
 "nbformat_minor": 5
}
