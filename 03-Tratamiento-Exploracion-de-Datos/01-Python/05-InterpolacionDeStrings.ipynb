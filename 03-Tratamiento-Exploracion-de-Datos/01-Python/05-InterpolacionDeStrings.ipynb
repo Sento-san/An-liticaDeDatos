{
 "cells": [
  {
   "cell_type": "markdown",
   "id": "19899bf0",
   "metadata": {},
   "source": [
    "## Interpolacion\n",
    "### Objetivos: \n",
    "\n",
    "    - Aprender a imprimir string\n",
    "    - Aprender a interpolar variables dentro de strings\n",
    "\n",
    "---\n",
    "### Desarrollo"
   ]
  },
  {
   "cell_type": "markdown",
   "id": "7b905d5f",
   "metadata": {},
   "source": [
    "Podemos hacer anotaciones en las outputs de nuestro codigo de esta manera:"
   ]
  },
  {
   "cell_type": "code",
   "execution_count": 3,
   "id": "f942def7",
   "metadata": {},
   "outputs": [
    {
     "name": "stdout",
     "output_type": "stream",
     "text": [
      "Suma de var_1 y var_2\n",
      "38.7\n"
     ]
    }
   ],
   "source": [
    "var_1 = 15.3\n",
    "var_2 = 23.4\n",
    "\n",
    "print(\"Suma de var_1 y var_2\")\n",
    "print(var_1 + var_2)\n"
   ]
  },
  {
   "cell_type": "markdown",
   "id": "09dc4fd6",
   "metadata": {},
   "source": [
    "Pero a veces resulta necesario o deseable interpolar le valor de la variable dentro de dicho string. Para esto utilizamos las llamadas `f-strings`. El formato de una `f-strings` es el siguiente:\n",
    "\n",
    "`f\"Esto es texto {esto es una variable} esto es mas texto\"`\n",
    "\n",
    "Escribiendo una `f` dentro de las comillas le indicamos a python que lo que se pongas dentro de las llaves (`{}`) sera codigo de Python. En este caso, una variable asignada previamente.\n",
    "\n",
    "Ahora podemos hacer lo siguiente:"
   ]
  },
  {
   "cell_type": "code",
   "execution_count": 4,
   "id": "cec61e5f",
   "metadata": {},
   "outputs": [
    {
     "name": "stdout",
     "output_type": "stream",
     "text": [
      "la suma 67.3\n"
     ]
    }
   ],
   "source": [
    "var_3 = 43\n",
    "var_4 = 24.3\n",
    "\n",
    "suma = var_3 + var_4\n",
    "print(f'la suma {suma}')"
   ]
  },
  {
   "cell_type": "code",
   "execution_count": 5,
   "id": "b287e602",
   "metadata": {},
   "outputs": [
    {
     "name": "stdout",
     "output_type": "stream",
     "text": [
      "El nombre del programa es: Hola Puta\n",
      "y la suma de los valores 5.0 + 5.0 es: 10.0\n"
     ]
    }
   ],
   "source": [
    "nombre_programa = input('Introduce el Nomnre del programa')\n",
    "var_3 = float(input('Introduce el primer valor'))\n",
    "var_4 = float(input('Introduce el segundo valor'))\n",
    "\n",
    "suma = var_3 + var_4\n",
    "\n",
    "print(f'El nombre del programa es: {nombre_programa}\\ny la suma de los valores {var_3} + {var_4} es: {suma}')"
   ]
  },
  {
   "cell_type": "code",
   "execution_count": 6,
   "id": "b9223987",
   "metadata": {},
   "outputs": [],
   "source": [
    "def sumar (numero_1,numero_2):\n",
    "    return numero_1 + numero_2"
   ]
  },
  {
   "cell_type": "code",
   "execution_count": 7,
   "id": "ca9b7941",
   "metadata": {},
   "outputs": [],
   "source": [
    "def solicitar ():\n",
    "    return float(input('Introduce el valor '))"
   ]
  },
  {
   "cell_type": "code",
   "execution_count": 8,
   "id": "81121fdd",
   "metadata": {},
   "outputs": [
    {
     "name": "stdout",
     "output_type": "stream",
     "text": [
      "15.0\n"
     ]
    }
   ],
   "source": [
    "var_3 = solicitar()\n",
    "var_4 = solicitar()\n",
    "\n",
    "sumar = sumar(var_3, var_4)\n",
    "\n",
    "print(sumar)"
   ]
  }
 ],
 "metadata": {
  "kernelspec": {
   "display_name": "Python 3",
   "language": "python",
   "name": "python3"
  },
  "language_info": {
   "codemirror_mode": {
    "name": "ipython",
    "version": 3
   },
   "file_extension": ".py",
   "mimetype": "text/x-python",
   "name": "python",
   "nbconvert_exporter": "python",
   "pygments_lexer": "ipython3",
   "version": "3.12.0"
  }
 },
 "nbformat": 4,
 "nbformat_minor": 5
}
