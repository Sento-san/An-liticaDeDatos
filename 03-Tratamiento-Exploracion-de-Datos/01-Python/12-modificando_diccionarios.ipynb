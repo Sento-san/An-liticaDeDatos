{
 "cells": [
  {
   "cell_type": "markdown",
   "id": "976d7dd5",
   "metadata": {},
   "source": [
    "# Modificando Diccionarios"
   ]
  },
  {
   "cell_type": "markdown",
   "id": "816fc9df",
   "metadata": {},
   "source": [
    "## Objetivos\n",
    "- Practicar los tres metodos básicos de modificacion de diccionarios: **agregar datos, modificar datos y borrar**"
   ]
  },
  {
   "cell_type": "markdown",
   "id": "05025a97",
   "metadata": {},
   "source": [
    "## Desarrollo\n",
    "Tenemos 3 manera basicas de modificar los diccionarios.\n",
    "\n",
    "---"
   ]
  },
  {
   "cell_type": "markdown",
   "id": "d85ae68d",
   "metadata": {},
   "source": [
    "### Agregar Datos al Diccionario\n",
    "Para agregar un dato a un diccionario ya existente basta con llamar la llave que queremos agregar y asignar un valor."
   ]
  },
  {
   "cell_type": "code",
   "execution_count": 1,
   "id": "cfa55d27",
   "metadata": {},
   "outputs": [],
   "source": [
    "from pprint import pprint"
   ]
  },
  {
   "cell_type": "code",
   "execution_count": 2,
   "id": "8de273b5",
   "metadata": {},
   "outputs": [
    {
     "name": "stdout",
     "output_type": "stream",
     "text": [
      "{'nombre': 'Manolo', 'tel': 5543673876, 'dir': {'colonia': 'El 61', 'calle': 'Perineos', 'cp': 42830}}\n"
     ]
    }
   ],
   "source": [
    "info_d_contacto = {\n",
    "    'nombre':'Manolo',\n",
    "    'tel': 5543673876,\n",
    "    'dir':{\n",
    "        'colonia': 'El 61',\n",
    "        'calle': 'Perineos',\n",
    "        'cp':42830\n",
    "    }\n",
    "}\n",
    "print(info_d_contacto)"
   ]
  },
  {
   "cell_type": "code",
   "execution_count": 3,
   "id": "ff41fe4c",
   "metadata": {},
   "outputs": [
    {
     "name": "stdout",
     "output_type": "stream",
     "text": [
      "{'dir': {'calle': 'Perineos', 'colonia': 'El 61', 'cp': 42830},\n",
      " 'nombre': 'Manolo',\n",
      " 'tel': 5543673876}\n"
     ]
    }
   ],
   "source": [
    "pprint(info_d_contacto)"
   ]
  },
  {
   "cell_type": "code",
   "execution_count": 4,
   "id": "a955b8dc",
   "metadata": {},
   "outputs": [],
   "source": [
    "info_d_contacto['email'] = 'Manolo_Culo_Alto@laplena.com'"
   ]
  },
  {
   "cell_type": "code",
   "execution_count": 5,
   "id": "92301308",
   "metadata": {},
   "outputs": [
    {
     "name": "stdout",
     "output_type": "stream",
     "text": [
      "{'dir': {'calle': 'Perineos', 'colonia': 'El 61', 'cp': 42830},\n",
      " 'email': 'Manolo_Culo_Alto@laplena.com',\n",
      " 'nombre': 'Manolo',\n",
      " 'tel': 5543673876}\n"
     ]
    }
   ],
   "source": [
    "pprint(info_d_contacto)"
   ]
  },
  {
   "cell_type": "markdown",
   "id": "540ea1a3",
   "metadata": {},
   "source": [
    "## Modificar pares llave-valor existentes\n",
    "Para modificar un par llave-valor existente, basta con reasingar a una llave de nuestro diccionario el nuevo valor que queremos agregar. Por ejemplo, imaginemos que esta persona cambio de direccion."
   ]
  },
  {
   "cell_type": "code",
   "execution_count": 6,
   "id": "d007c0f9",
   "metadata": {},
   "outputs": [
    {
     "name": "stdout",
     "output_type": "stream",
     "text": [
      "{'dir': {'calle': 'Prograso', 'colonia': 'Escandalo', 'cp': 11800, 'tel': 189},\n",
      " 'email': 'Manolo_Culo_Alto@laplena.com',\n",
      " 'nombre': 'Manolo',\n",
      " 'tel': 5543673876}\n"
     ]
    }
   ],
   "source": [
    "info_d_contacto['dir'] = {\n",
    "    'colonia': 'Escandalo',\n",
    "    'calle': 'Prograso',\n",
    "    'tel':189,\n",
    "    'cp':11800\n",
    "}\n",
    "pprint(info_d_contacto)"
   ]
  },
  {
   "cell_type": "code",
   "execution_count": 8,
   "id": "66fabc58",
   "metadata": {},
   "outputs": [
    {
     "name": "stdout",
     "output_type": "stream",
     "text": [
      "{'dir': {'calle': 'Prograso',\n",
      "         'colonia': 'SalteSiPuedes',\n",
      "         'cp': 11800,\n",
      "         'tel': 189},\n",
      " 'email': 'Manolo_Culo_Alto@laplena.com',\n",
      " 'nombre': 'Manolo',\n",
      " 'tel': 5543673876}\n"
     ]
    }
   ],
   "source": [
    "info_d_contacto['dir']['colonia'] = 'SalteSiPuedes'\n",
    "pprint(info_d_contacto)"
   ]
  },
  {
   "cell_type": "markdown",
   "id": "2bff21fe",
   "metadata": {},
   "source": [
    "Podemos incluso modificar estructuras de datos dentor de nuestro diccionario. Por ejemplo, ¿Qué tal si hubo un error al agregar la nueva dirccion y ahora tenemos que cambiar solamente el numero? "
   ]
  },
  {
   "cell_type": "code",
   "execution_count": 9,
   "id": "bd70c2fa",
   "metadata": {},
   "outputs": [
    {
     "name": "stdout",
     "output_type": "stream",
     "text": [
      "{'dir': {'calle': 'Prograso',\n",
      "         'colonia': 'SalteSiPuedes',\n",
      "         'cp': 11800,\n",
      "         'tel': 666},\n",
      " 'email': 'Manolo_Culo_Alto@laplena.com',\n",
      " 'nombre': 'Manolo',\n",
      " 'tel': 5543673876}\n"
     ]
    }
   ],
   "source": [
    "info_d_contacto['dir']['tel'] = 666\n",
    "pprint(info_d_contacto)"
   ]
  },
  {
   "cell_type": "markdown",
   "id": "da5d3f26",
   "metadata": {},
   "source": [
    "## Eliminando Datos del Diccionario\n",
    "Para eliminar datos de un diccionario se puede usar el metodo `pop`. Como se recordara, el nombre de este metodo es identico al metodo para eliminar elementos de las listas . La diferencia es que el metodo `pop` de las listas recibe indices como argumentos, el metodo `pop` de los diccionarios recibe llaves como argumento."
   ]
  },
  {
   "cell_type": "code",
   "execution_count": 10,
   "id": "b7c08161",
   "metadata": {},
   "outputs": [
    {
     "name": "stdout",
     "output_type": "stream",
     "text": [
      "{'dir': {'calle': 'Prograso',\n",
      "         'colonia': 'SalteSiPuedes',\n",
      "         'cp': 11800,\n",
      "         'tel': 666},\n",
      " 'email': 'Manolo_Culo_Alto@laplena.com',\n",
      " 'nombre': 'Manolo'}\n"
     ]
    }
   ],
   "source": [
    "info_d_contacto.pop('tel')\n",
    "pprint(info_d_contacto)"
   ]
  }
 ],
 "metadata": {
  "kernelspec": {
   "display_name": "Python 3",
   "language": "python",
   "name": "python3"
  },
  "language_info": {
   "codemirror_mode": {
    "name": "ipython",
    "version": 3
   },
   "file_extension": ".py",
   "mimetype": "text/x-python",
   "name": "python",
   "nbconvert_exporter": "python",
   "pygments_lexer": "ipython3",
   "version": "3.12.0"
  }
 },
 "nbformat": 4,
 "nbformat_minor": 5
}
